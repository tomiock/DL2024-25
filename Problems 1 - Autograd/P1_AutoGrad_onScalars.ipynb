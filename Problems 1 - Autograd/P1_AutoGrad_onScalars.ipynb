{
 "cells": [
  {
   "cell_type": "markdown",
   "id": "b42b27e8-e6d7-4913-ac30-5b3a3490a72f",
   "metadata": {},
   "source": [
    "<a href=\"https://colab.research.google.com/github/dkaratzas/DL2024-25/blob/main/Problems%201%20-%20Autograd/P1_AutoGrad_onScalars.ipynb\" target=\"_parent\"><img src=\"https://colab.research.google.com/assets/colab-badge.svg\" alt=\"Open In Colab\"/></a>\n"
   ]
  },
  {
   "cell_type": "markdown",
   "id": "2a1ac8d5-03e3-4d87-96ed-9b45cec97358",
   "metadata": {},
   "source": [
    "[![Open in SageMaker Studio Lab](https://studiolab.sagemaker.aws/studiolab.svg)](https://studiolab.sagemaker.aws/import/github/dkaratzas/DL2024-25/blob/main/Problems%201%20-%20Autograd/P1_AutoGrad_onScalars.ipynb)\n"
   ]
  },
  {
   "cell_type": "markdown",
   "id": "cd0eb748-a60f-4991-ab05-273a0fcc02c6",
   "metadata": {},
   "source": [
    "# Creating our own Auto Differentiation (AutoGrad) framework\n",
    "\n",
    "In this practical exercise we will build our own, very simple, Auto-differentiation (or AutoGrad) framework.\n"
   ]
  },
  {
   "cell_type": "markdown",
   "id": "f26eca56-9c28-4b5c-82a8-fb0e6849e659",
   "metadata": {},
   "source": [
    "## Coding the framework\n",
    "\n",
    "### Step 1: Define a class for our variables\n"
   ]
  },
  {
   "cell_type": "markdown",
   "id": "fbd833ea-1656-4279-91e4-fbfe479bdc6a",
   "metadata": {},
   "source": [
    "The key idea is that we will define our own class of `Variable` which is basically the same as a scalar (a number). So our class is created by passing it a `value`, and it stores this value internally.\n",
    "\n",
    "But apart from being a placeholder for a number, we also want to keep track of the operation that created every `Variable`.\n",
    "\n",
    "For example, if a variable $c$ is the result of the addition of two variables $a$ and $b$: $c = a + b$, then we would say that $a$ and $b$ are \"parent\" variables of $c$, and $c$ is their \"child\". The way $c$ was created was by adding these two parent variables together. A variable created directly (defined by the user, not resulting by any operation over existing variables) would have no parents.\n",
    "\n",
    "So apart from the value of the `Variable`, we will also have to keep track of its parents, and on how each of them \"contributes\" to the value of the `Variable` - this is described by the local derivative associated with each of the parents, that tells us how a change in the value of each of the parent variables translates into a change in the value of the child variable.\n",
    "\n",
    "This is important in order to implement our backwards pass. During the backwards pass each parent defines a \"route\" through which the gradients coming into our variable will have to flow through.\n",
    "\n",
    "So we will define a list of `gradRoutes` that will contain the list of parent variables and their corresponding local derivatives. A `Variable` created directly (not resulting by any operation over existing variables) will have an empty `gradRoutes`.\n",
    "\n",
    "Finally, we want each `Variable` of ours to keep track of the value of gradient of the quantity we are interested in (usually the loss) with respect to the `Variable` itself. We will create a placeholder for that as well, called `grad`. As seen in theory, this placeholder will accummulate the gradients that are backpropagated from the children of this variable when we implement the backpropagation algorithm. So we will initialise it to zero.\n"
   ]
  },
  {
   "cell_type": "code",
   "execution_count": 21,
   "id": "dbae3dd3-20ed-4060-8918-dfc1268c6948",
   "metadata": {},
   "outputs": [],
   "source": [
    "import numpy as np"
   ]
  },
  {
   "cell_type": "code",
   "execution_count": 22,
   "id": "7fc017b8-6b1e-4f61-accd-d52cf891e276",
   "metadata": {},
   "outputs": [],
   "source": [
    "class Variable: #Simple variable. These are the leafs of our tree, they can request to have a gradient calculated, or not\n",
    "    def __init__(self, value):\n",
    "        self.value = value\n",
    "        self.gradRoutes: list[tuple] = [] # A variable by default has no grad Routes (was not created by anything, just defined)\n",
    "        self.grad = 0.0        \n",
    "        \n",
    "    def __str__(self):\n",
    "        return 'Value: {self.value}'.format(self=self)        "
   ]
  },
  {
   "cell_type": "markdown",
   "id": "749cc8cc-702c-4c55-8a6a-9c2c23b66079",
   "metadata": {},
   "source": [
    "Apart from the `__init__()` function which stores the value passed to our class and initialises the `gradRoutes` and `grad` member variables, we have also overloaded the function that python uses to convert a class into a string representation: `__str__()`. This will allow us to print our class.\n",
    "\n",
    "We cannot do much yet with this class, apart from storing values into our variables and printing them out. Let's try this out. \n"
   ]
  },
  {
   "cell_type": "code",
   "execution_count": 23,
   "id": "a8b87240-a79d-4492-b5a0-9fc730dc53d3",
   "metadata": {},
   "outputs": [
    {
     "name": "stdout",
     "output_type": "stream",
     "text": [
      "Value: 4.3\n",
      "Value: 5.2\n",
      "Value: 1\n"
     ]
    }
   ],
   "source": [
    "a = Variable(4.3)\n",
    "b = Variable(5.2)\n",
    "c = Variable(1)\n",
    "print(a)\n",
    "print(b)\n",
    "print(c)"
   ]
  },
  {
   "cell_type": "markdown",
   "id": "87e73820-34ef-4380-9049-ec3fc145904d",
   "metadata": {},
   "source": [
    "### Step 2: Define operations over our variables\n"
   ]
  },
  {
   "cell_type": "markdown",
   "id": "416ff7a8-851e-4706-a3d6-eb26dec05dc2",
   "metadata": {},
   "source": [
    "The next step would be to implement operations on our variables. Let's first define the operations for addition and multiplication.\n",
    "\n",
    "These will be functions that take two `variables` as input and produce a new (child) `variable` with a value equal to the sum or the product of the two inputs. Apart from the forward pass though, we should keep track of how this new `variable` was created: the two parent `variables`, and their corresponding local derivatives. In our code we put these two things in a tuple and save them in the list of `gradRoutes`.\n"
   ]
  },
  {
   "cell_type": "code",
   "execution_count": 24,
   "id": "8a89c456-850f-4d9f-8124-a9716e253697",
   "metadata": {},
   "outputs": [],
   "source": [
    "def vAdd(A, B): # Addition\n",
    "    result = Variable(A.value + B.value) # Create a new Variable to store the result, and pass it the value = a + b\n",
    "          \n",
    "    #keep track of the parent variables, and of the local derivative associated with each one\n",
    "    result.gradRoutes.append((A, 1)) # dresult / dA = 1\n",
    "    result.gradRoutes.append((B, 1)) # dresult / dB = 1\n",
    "    \n",
    "    return result\n",
    "    \n",
    "def vMul(A, B): # Addition\n",
    "    result = Variable(A.value * B.value) # Create a new Variable to store the result, and pass it the value = a * b\n",
    "          \n",
    "    #keep track of the parent variables, and of the local derivative associated with each one\n",
    "    result.gradRoutes.append((A, B.value)) # dresult / dA = B\n",
    "    result.gradRoutes.append((B, A.value)) # dresult / dB = A\n",
    "    \n",
    "    return result"
   ]
  },
  {
   "cell_type": "markdown",
   "id": "62f7f46e-e7d4-4b15-8d5f-e35714fd5f9f",
   "metadata": {},
   "source": [
    "So for example to calculate $d = (a + b) * c$ we first need to calculate $(a + b)$ and then mutiply the result with $c$\n"
   ]
  },
  {
   "cell_type": "code",
   "execution_count": 25,
   "id": "5cb7b363-00c9-46ca-a28f-403b770ba345",
   "metadata": {},
   "outputs": [
    {
     "name": "stdout",
     "output_type": "stream",
     "text": [
      "Value: 20\n"
     ]
    }
   ],
   "source": [
    "a = Variable(2) # a = 2\n",
    "b = Variable(3) # b = 3\n",
    "c = Variable(4) # c = 4\n",
    "\n",
    "#d = (a + b) * c = 20\n",
    "d = vMul(vAdd(a, b), c)\n",
    "\n",
    "print(d)"
   ]
  },
  {
   "cell_type": "markdown",
   "id": "bd5a29fd-97a8-46d2-8e5f-5a0165c9be6d",
   "metadata": {},
   "source": [
    "### Step 3: Implement the backpropagation function\n"
   ]
  },
  {
   "cell_type": "markdown",
   "id": "004ff4d4-20ba-4b92-bfaf-bc17e984ccf9",
   "metadata": {},
   "source": [
    "The final step is to implement the backpropagation function. This starts with a child `variable`, and backpropagates gradients through the routes recursively. It uses the two rules that we saw in theory:\n",
    "\n",
    "- Accumulate the incoming gradients that arrive to a `variable`. Each of the incoming gradients describe a different way in which the `variable` affects the quantity of interest, so this sum will be the final gradient for the `variable`\n",
    "- Multiply every incoming gradient with each of the local derivatives corresponding to parent `variables` (this would be the application of the chain rule), and continue the backpropagation through the corresponding route (for each of the parent `variables`)\n",
    "\n",
    "We update the `Variable` class accordingly. We also update the `__str___()` function to include also gradient information.\n"
   ]
  },
  {
   "cell_type": "code",
   "execution_count": 26,
   "id": "b04428de-b7ad-403f-8099-a1ad8f9c67dc",
   "metadata": {},
   "outputs": [],
   "source": [
    "class Variable: #Simple variable. These are the leafs of our tree, they can request to have a gradient calculated, or not\n",
    "    def __init__(self, value):\n",
    "        self.value = value\n",
    "        self.gradRoutes = [] # A variable by default has no grad Routes (was not created by anything, just defined)\n",
    "        self.grad = 0.0\n",
    "    \n",
    "    def backProp(self, route_val = 1.0):\n",
    "        # Add together the incoming gradients from the different routes that lead to a node - this will be the final gradient for the node\n",
    "        self.grad += route_val\n",
    "                \n",
    "        # For every parent variable and corresponding local derivative value that we have in the gradRoutes, continue with the gradient calculation\n",
    "        for variable, local_derivative_value in self.gradRoutes:\n",
    "            # Multiply the incoming gradient with the local derivatives corresponding the parent variable, and continue the backpropagation\n",
    "            variable.backProp(local_derivative_value * route_val)\n",
    "\n",
    "    def zero_grad(self):\n",
    "        self.grad = 0\n",
    "\n",
    "        for variable, _ in self.gradRoutes:\n",
    "            variable.zero_grad()\n",
    "    \n",
    "    def __str__(self):\n",
    "        return 'Value: {self.value}, Gradient: {self.grad}'.format(self=self)"
   ]
  },
  {
   "cell_type": "markdown",
   "id": "c3419f1e-2d9b-4e2e-b7f1-6e921bcaf6f8",
   "metadata": {},
   "source": [
    "<font color=blue>**Question:** Why did we set the default value of route_val equal to 1.0?</font>\n"
   ]
  },
  {
   "cell_type": "markdown",
   "id": "f8e17a96-79d2-457c-b16b-be94b328ee12",
   "metadata": {},
   "source": [
    "---\n",
    "\n",
    "Because in case that we do not provide a gradient value we assume the operation has not changed the variable, therefore its derivative should be one.\n",
    "\n",
    "\n",
    "---\n"
   ]
  },
  {
   "cell_type": "markdown",
   "id": "75af6170-bf03-45c3-9c64-f5e1be924196",
   "metadata": {},
   "source": [
    "This should be all. If we want to calculate the derivative of the result with respect to any of the variables that participated in the calculation, we just need to call backprop on the result, and then read the derivatives out.\n"
   ]
  },
  {
   "cell_type": "code",
   "execution_count": 27,
   "id": "43f35ebd-4ab4-4a42-95a9-9740ea0cafdc",
   "metadata": {},
   "outputs": [
    {
     "name": "stdout",
     "output_type": "stream",
     "text": [
      "Result = 20\n",
      "The derivative of the result with respect to a is: 4.0\n",
      "The derivative of the result with respect to b is: 4.0\n",
      "The derivative of the result with respect to c is: 5.0\n"
     ]
    }
   ],
   "source": [
    "a = Variable(2)           # a = 2\n",
    "b = Variable(3)           # b = 3\n",
    "c = Variable(4)           # c = 4\n",
    "res = vMul(vAdd(a, b), c) # res = (a + b) * c = 20\n",
    "\n",
    "print(\"Result =\", res.value)\n",
    "\n",
    "# Call backprop on the result\n",
    "res.backProp()\n",
    "\n",
    "# Now all variables should contain in their \"grad\" the derivative d(res) / d(variable)\n",
    "print(\"The derivative of the result with respect to a is:\", a.grad)\n",
    "print(\"The derivative of the result with respect to b is:\", b.grad)\n",
    "print(\"The derivative of the result with respect to c is:\", c.grad)"
   ]
  },
  {
   "cell_type": "markdown",
   "id": "298bd5ac-0ffc-48c2-a8e5-9679f93e00d0",
   "metadata": {},
   "source": [
    "In the following example, variable $a$ affects the result through two different routes\n"
   ]
  },
  {
   "cell_type": "code",
   "execution_count": 28,
   "id": "0b7e81d3-20ac-4bd6-9be4-9959afd609d1",
   "metadata": {},
   "outputs": [
    {
     "name": "stdout",
     "output_type": "stream",
     "text": [
      "Result = 28\n",
      "The derivative of the result with respect to a is: 11.0\n",
      "The derivative of the result with respect to b is: 4.0\n",
      "The derivative of the result with respect to c is: 4.0\n"
     ]
    }
   ],
   "source": [
    "a = Variable(4)  # a = 4\n",
    "b = Variable(3)  # b = 3\n",
    "c = vAdd(a, b)   # c = 4 + 3\n",
    "res = vMul(a, c) # res = a * c = 28\n",
    "\n",
    "print(\"Result =\", res.value)\n",
    "\n",
    "# Call backprop on the result\n",
    "res.backProp()\n",
    "\n",
    "# Now all variables should contain in their \"grad\" the derivative d(res) / d(variable)\n",
    "print(\"The derivative of the result with respect to a is:\", a.grad)\n",
    "print(\"The derivative of the result with respect to b is:\", b.grad)\n",
    "# Also for intermediate results\n",
    "print(\"The derivative of the result with respect to c is:\", c.grad)"
   ]
  },
  {
   "cell_type": "markdown",
   "id": "ea57f3f0-0ef8-4fb7-85ae-d96b58a01732",
   "metadata": {},
   "source": [
    "<font color=blue>**Question:** Can you now use this setup to calculate the derivative of $c$ with respect to $a$ and $b$?</font>\n"
   ]
  },
  {
   "cell_type": "code",
   "execution_count": 29,
   "id": "280227f1-bafa-4989-8aea-21a13771e0c4",
   "metadata": {},
   "outputs": [
    {
     "name": "stdout",
     "output_type": "stream",
     "text": [
      "1.0\n",
      "1.0\n"
     ]
    }
   ],
   "source": [
    "# Your Code Here\n",
    "res.zero_grad()\n",
    "\n",
    "c.backProp()\n",
    "\n",
    "print(b.grad)\n",
    "print(a.grad)"
   ]
  },
  {
   "cell_type": "markdown",
   "id": "29d63b91-223c-4ad3-b498-e61c408e3495",
   "metadata": {},
   "source": [
    "## Final touches\n",
    "\n",
    "If you understood how this works up to here, then you should be already good to go. But since we want to use our auto grad to do some practical work, we will continue working on it a bit, to make it a bit more usable and complete it with more operations. Many of the subsequent steps are quite \"engineering\" in nature.\n"
   ]
  },
  {
   "cell_type": "markdown",
   "id": "44de3cad-fc96-4cd7-b893-ea5c4608ba27",
   "metadata": {},
   "source": [
    "### Improving usability: overloading operators\n"
   ]
  },
  {
   "cell_type": "markdown",
   "id": "98354c69-40cd-4ea7-a1dd-7ead8e198080",
   "metadata": {},
   "source": [
    "Of course this is still highly incomplete, very inefficient and not very usable. Lets first improve a usability issue. Instead of having to call different functions for the operations like `res = vMul(a, c)`, we would like to be able to directly write them down like `res = a * b`. To achieve this, we should overload [Python's special functions for operator overloading](https://docs.python.org/3/reference/datamodel.html#emulating-numeric-types).\n",
    "\n",
    "Here's how to do this for the addition and multiplication.\n"
   ]
  },
  {
   "cell_type": "code",
   "execution_count": 30,
   "id": "227c2b9f-a79e-4f97-a4f5-89ea122040a3",
   "metadata": {},
   "outputs": [],
   "source": [
    "class Variable: #Simple variable. These are the leafs of our tree, they can request to have a gradient calculated, or not\n",
    "    def __init__(self, value):\n",
    "        self.value = value\n",
    "        self.gradRoutes = [] # A variable by default has no grad Routes (was not created by anything, just defined)\n",
    "        self.grad = 0.0\n",
    "    \n",
    "    def backProp(self, route_val = 1.0):\n",
    "        # Add together the incoming gradients from the different routes that lead to a node - this will be the final gradient for the node\n",
    "        self.grad += route_val\n",
    "                \n",
    "        # For every parent variable and corresponding local derivative value that we have in the gradRoutes, continue with the gradient calculation\n",
    "        for variable, local_derivative_value in self.gradRoutes:\n",
    "            # Multiply the incoming gradient with the local derivatives corresponding the parent variable, and continue the backpropagation\n",
    "            variable.backProp(local_derivative_value * route_val)\n",
    "            \n",
    "    def __add__(self, b):\n",
    "        return vAdd(self, b)\n",
    "        \n",
    "    def __mul__(self, b):\n",
    "        return vMul(self, b)            \n",
    "    \n",
    "    def __str__(self):\n",
    "        return 'Value: {self.value}, Gradient: {self.grad}'.format(self=self)\n",
    "\n",
    "    def zero_grad(self):\n",
    "        self.grad = 0\n",
    "\n",
    "        for variable, _ in self.gradRoutes:\n",
    "            variable.zero_grad()"
   ]
  },
  {
   "cell_type": "code",
   "execution_count": 31,
   "id": "2e40d331-bc6f-4ae0-9a87-86364cc83f08",
   "metadata": {},
   "outputs": [
    {
     "name": "stdout",
     "output_type": "stream",
     "text": [
      "Result = 28\n",
      "The derivative of the result with respect to a is: 11.0\n",
      "The derivative of the result with respect to b is: 4.0\n",
      "The derivative of the result with respect to c is: 4.0\n"
     ]
    }
   ],
   "source": [
    "a = Variable(4)  # a = 4\n",
    "b = Variable(3)  # b = 3\n",
    "c = a + b        # c = 4 + 3\n",
    "res = a * c      # res = a * c = 28\n",
    "\n",
    "print(\"Result =\", res.value)\n",
    "\n",
    "# Call backprop on the result\n",
    "res.backProp()\n",
    "\n",
    "# Now all variables should contain in their \"grad\" the derivative d(res) / d(variable)\n",
    "print(\"The derivative of the result with respect to a is:\", a.grad)\n",
    "print(\"The derivative of the result with respect to b is:\", b.grad)\n",
    "# Also for intermediate results\n",
    "print(\"The derivative of the result with respect to c is:\", b.grad)"
   ]
  },
  {
   "cell_type": "markdown",
   "id": "189b44d5-8809-40d2-9473-3c124e106a3a",
   "metadata": {},
   "source": [
    "### Zeroing gradients\n"
   ]
  },
  {
   "cell_type": "markdown",
   "id": "e1daf26b-4df1-4699-a428-82962af6658a",
   "metadata": {},
   "source": [
    "A last thing to note is that once we call `backProp`, our gradients are calculated and our variables are now \"dirty\" in the sense that if we call backprop again, the new result will be added to the previous one:\n"
   ]
  },
  {
   "cell_type": "code",
   "execution_count": 32,
   "id": "a79714a6-ce54-431c-a23e-751bb90c34c6",
   "metadata": {},
   "outputs": [
    {
     "name": "stdout",
     "output_type": "stream",
     "text": [
      "The derivative of the result with respect to a is: 11.0\n",
      "The derivative of the result with respect to b is: 4.0\n",
      "Second time\n",
      "The derivative of the result with respect to a is: 22.0\n",
      "The derivative of the result with respect to b is: 8.0\n"
     ]
    }
   ],
   "source": [
    "a = Variable(4)   # a = 4\n",
    "b = Variable(3)   # b = 3\n",
    "res = (a + b) * a # res = a * c = 28\n",
    "\n",
    "# Call backprop on the result\n",
    "res.backProp()\n",
    "print(\"The derivative of the result with respect to a is:\", a.grad)\n",
    "print(\"The derivative of the result with respect to b is:\", b.grad)\n",
    "\n",
    "# Call backprop on the result once more\n",
    "print(\"Second time\")\n",
    "res.backProp()\n",
    "print(\"The derivative of the result with respect to a is:\", a.grad)\n",
    "print(\"The derivative of the result with respect to b is:\", b.grad)"
   ]
  },
  {
   "cell_type": "markdown",
   "id": "95c17e66-fc40-485e-a7f8-344b9de28fd5",
   "metadata": {},
   "source": [
    "This will actually turn out to be quite useful, e.g. when we want to accumulate weight gradients over different samples in our learning loops (see next week's notebook), but we need a way to control it.\n",
    "\n",
    "To avoid this, we should reset the gradients to zero before we call `backProp` again. We can do it one by one for every variable, but we will also implement a function that does this recursively from the child node we backProped, all the way to the parents.\n"
   ]
  },
  {
   "cell_type": "code",
   "execution_count": 33,
   "id": "a233f0b7-9026-47bc-bcf3-54a395576516",
   "metadata": {},
   "outputs": [],
   "source": [
    "class Variable: #Simple variable. These are the leafs of our tree, they can request to have a gradient calculated, or not\n",
    "    def __init__(self, value):\n",
    "        self.value = value\n",
    "        self.gradRoutes = [] # A variable by default has no grad Routes (was not created by anything, just defined)\n",
    "        self.grad = 0.0\n",
    "    \n",
    "    def backProp(self, route_val = 1.0):\n",
    "        # Add together the incoming gradients from the different routes that lead to a node - this will be the final gradient for the node\n",
    "        self.grad += route_val\n",
    "                \n",
    "        # For every parent variable and corresponding local derivative value that we have in the gradRoutes, continue with the gradient calculation\n",
    "        for variable, local_derivative_value in self.gradRoutes:\n",
    "            # Multiply the incoming gradient with the local derivatives corresponding the parent variable, and continue the backpropagation\n",
    "            variable.backProp(local_derivative_value * route_val)\n",
    "\n",
    "    def zeroGrad(self):\n",
    "        self.grad = 0.0\n",
    "        \n",
    "    def zeroGradsRecursively(self):\n",
    "        self.zeroGrad()\n",
    "        for variable, _ in self.gradRoutes:\n",
    "            variable.zeroGradsRecursively()\n",
    "            \n",
    "    def __add__(self, b):\n",
    "        return vAdd(self, b)\n",
    "        \n",
    "    def __mul__(self, b):\n",
    "        return vMul(self, b)           \n",
    "    \n",
    "    def __str__(self):\n",
    "        return 'Value: {self.value}, Gradient: {self.grad}'.format(self=self)"
   ]
  },
  {
   "cell_type": "code",
   "execution_count": 34,
   "id": "f5f6a56e-4f69-4ad6-8675-deb4a160eb51",
   "metadata": {},
   "outputs": [
    {
     "name": "stdout",
     "output_type": "stream",
     "text": [
      "The derivative of the result with respect to a is: 11.0\n",
      "The derivative of the result with respect to b is: 4.0\n",
      "Second time\n",
      "The derivative of the result with respect to a is: 22.0\n",
      "The derivative of the result with respect to b is: 8.0\n"
     ]
    }
   ],
   "source": [
    "a = Variable(4)   # a = 4\n",
    "b = Variable(3)   # b = 3\n",
    "res = (a + b) * a # res = a * c = 28\n",
    "\n",
    "# Call backprop on the result\n",
    "res.backProp()\n",
    "print(\"The derivative of the result with respect to a is:\", a.grad)\n",
    "print(\"The derivative of the result with respect to b is:\", b.grad)\n",
    "\n",
    "# Zero gradients\n",
    "res.zeroGrad()\n",
    "\n",
    "# Call backprop on the result once more\n",
    "print(\"Second time\")\n",
    "res.backProp()\n",
    "print(\"The derivative of the result with respect to a is:\", a.grad)\n",
    "print(\"The derivative of the result with respect to b is:\", b.grad)"
   ]
  },
  {
   "cell_type": "markdown",
   "id": "1a910dbb-1866-4312-92bd-ee60414ede9a",
   "metadata": {},
   "source": [
    "## More Improvements - Homework\n"
   ]
  },
  {
   "cell_type": "markdown",
   "id": "fb555a60-1220-4782-98e5-81c8f69457b2",
   "metadata": {},
   "source": [
    "There are number of ways we can improve our simple network. The most important is probably being able to work with vectors and matrices - we will not implement this ourselves though, next week we will see a framework that does this. For the time being, we will focus on other, simpler improvements.\n"
   ]
  },
  {
   "cell_type": "markdown",
   "id": "5f0560db-673f-4d06-aeb9-9a9eb0f48b4c",
   "metadata": {},
   "source": [
    "---\n",
    "### <font color=blue>Exercise 1 (Easy):</font>\n",
    "    \n",
    "<font color=blue>We usually do not require gradients for all our variables. If we could indicate which variables require gradients, then we could keep track of the routes that lead to these variables only and drop all the rest. This would be a huge improvement in resources and speed (number of calculations). Add a boolean parameter in the Variable class initialization called `requiresGrad`, and use it to add this functionality.</font>\n"
   ]
  },
  {
   "cell_type": "code",
   "execution_count": 35,
   "id": "df55122f-e855-4ebe-b9df-0e53afb9f3bd",
   "metadata": {},
   "outputs": [],
   "source": [
    "# Your Code Here\n",
    "class Variable: #Simple variable. These are the leafs of our tree, they can r\n",
    "    def __init__(self, value, requiresGrad=False):\n",
    "        self.value = value\n",
    "        self.requiresGrad = requiresGrad\n",
    "        self.gradRoutes = [] # A variable by default has no grad Routes (was \n",
    "        self.grad = 0.0\n",
    "    \n",
    "    def backProp(self, route_val = 1.0):\n",
    "        if not self.requiresGrad:\n",
    "            return\n",
    "\n",
    "        # Add together the incoming gradients from the different routes that \n",
    "        self.grad += route_val\n",
    "                \n",
    "        # For every parent variable and corresponding local derivative value \n",
    "        for variable, local_derivative_value in self.gradRoutes:\n",
    "            # Multiply the incoming gradient with the local derivatives corre\n",
    "            variable.backProp(local_derivative_value * route_val)\n",
    "\n",
    "    def zeroGrad(self):\n",
    "        self.grad = 0.0\n",
    "        \n",
    "    def zeroGradsRecursively(self):\n",
    "        self.zeroGrad()\n",
    "        for variable, _ in self.gradRoutes:\n",
    "            if not variable.requiresGrad:\n",
    "                variable.zeroGradsRecursively()\n",
    "            \n",
    "    def __add__(self, b):\n",
    "        return vAdd(self, b)\n",
    "        \n",
    "    def __mul__(self, b):\n",
    "        return vMul(self, b)           \n",
    "    \n",
    "    def __str__(self):\n",
    "        if self.requiresGrad:\n",
    "            return 'Value: {self.value}, Gradient: {self.grad}'.format(self=self)\n",
    "        else:\n",
    "            return 'Value: {self.value}, Gradient: Not Required'.format(self=self)\n",
    "\n",
    "    # easy printing on terminal ;)\n",
    "    def __repr__(self) -> str:\n",
    "        return str(self)"
   ]
  },
  {
   "cell_type": "markdown",
   "id": "2dfaa7b7-faa7-4a38-bbc4-5082a123d95f",
   "metadata": {},
   "source": [
    "Since the default is set to False, we need to also call `res.requiresGrad = True` to be able to calculate its gradient, otherwise the default on the init method is used. Remember that the init function is called when returning from the operations like `vAdd` and `vMul`.\n"
   ]
  },
  {
   "cell_type": "code",
   "execution_count": 36,
   "id": "d1b36fcb-eea3-4b61-9051-138778ebe22e",
   "metadata": {},
   "outputs": [
    {
     "name": "stdout",
     "output_type": "stream",
     "text": [
      "Value: 2, Gradient: 1.0\n",
      "Value: 1, Gradient: 2.0\n",
      "Value: 2, Gradient: 1.0\n"
     ]
    }
   ],
   "source": [
    "a = Variable(1, requiresGrad=True)\n",
    "b = Variable(2, requiresGrad=True)\n",
    "res = a * b\n",
    "res.requiresGrad = True\n",
    "\n",
    "res.backProp()\n",
    "print(res)\n",
    "print(a)\n",
    "print(b)"
   ]
  },
  {
   "cell_type": "code",
   "execution_count": 37,
   "id": "9e87247a-86f2-4594-b5e9-fc57fa11741a",
   "metadata": {},
   "outputs": [
    {
     "name": "stdout",
     "output_type": "stream",
     "text": [
      "Value: 2, Gradient: Not Required\n",
      "Value: 1, Gradient: 0.0\n",
      "Value: 2, Gradient: 0.0\n"
     ]
    }
   ],
   "source": [
    "# Now we try to NOT calculate the gradient.\n",
    "\n",
    "a = Variable(1, requiresGrad=True)\n",
    "b = Variable(2, requiresGrad=True)\n",
    "res = a * b\n",
    "# we do not calculate the gradient\n",
    "#res.requiresGrad = True\n",
    "\n",
    "res.backProp()\n",
    "print(res)\n",
    "print(a)\n",
    "print(b)"
   ]
  },
  {
   "cell_type": "markdown",
   "id": "c5d273b4-3f0c-4d54-a42b-ff776ac6e5a8",
   "metadata": {},
   "source": [
    "---\n",
    "### <font color=blue>Exercise 2 (Normal):</font>\n",
    "    \n",
    "<font color=blue>We obviously need to implement more functions - implement the following functions:\n",
    "- Subtraction\n",
    "- Raising to a power\n",
    "- Division\n",
    "- Unary negation\n",
    "- The (natural) exponential function exp(x)\n",
    "- ... any other function you might want</font>\n"
   ]
  },
  {
   "cell_type": "code",
   "execution_count": 38,
   "id": "67ba271f-8610-44d4-9c4b-cfac761d88c7",
   "metadata": {},
   "outputs": [],
   "source": [
    "# Your Code Here\n",
    "\n",
    "# IMPORTANT: SOLVED AT THE END OF THE FILE"
   ]
  },
  {
   "cell_type": "markdown",
   "id": "75366848-7dbe-41ba-8078-0e2c86994884",
   "metadata": {},
   "source": [
    "---\n",
    "### <font color=blue>Exercise 3 (Difficult):</font>\n",
    "    \n",
    "<font color=blue>Our operations currently accept only instances of our Variable class as inputs. So, if you wanted to calculate `a = b * 2` where `b` is an instance of our variable class and `2` is just a numerical constant you would get an error as our framework does not know how to multiply a `Variable` with a number. You should instead write `a = b * Variable(2)` to achieve this.</font>\n",
    "\n",
    "<font color=blue>Improve further the usability of our framework by allowing our functions to mix numbers and Variables in the same operation. To do this, you should check the type of each operand, and if it is not a `Variable`, convert it to a `Variable` before you continue.</font>\n",
    "\n",
    "*Hint: look at the `isinstance()` function*\n",
    "\n",
    "*Hint: look also into the overloads of the [reflected operands in python](https://docs.python.org/3/reference/datamodel.html#object.__radd__)*\n"
   ]
  },
  {
   "cell_type": "code",
   "execution_count": 39,
   "id": "954cd8cd-5c1c-42f5-b3bc-7ce67febb021",
   "metadata": {},
   "outputs": [],
   "source": [
    "# Your Code Here\n",
    "\n",
    "# IMPORTANT: SOLVED AT THE END OF THE FILE"
   ]
  },
  {
   "cell_type": "markdown",
   "id": "1c543d59-f596-4e09-8a8a-335e2b531f56",
   "metadata": {},
   "source": [
    "---\n",
    "### <font color=blue>Exercise 4 (Very Difficult):</font>\n",
    "\n",
    "When we create a new variable through an operation, we create gradRoutes to all the parent variables and calculate the value of the local derivative. The sole purpose of calculating this value is to use it as a multiplier during backProp.\n",
    "\n",
    "During the backprop operation, everytime our Variable receives a gradient it multiplies it with the local derivative value of each gradRoute (that was calcualted during the forward pass), and passes it back to the corresponding parent Variable. \n",
    "\n",
    "It seems a bit strange that it is our Variable that has to keep track of these local derivative values and do this multiplication... In addition, this is a multiplication only because we deal with scalars, if we were implementing tensor (vector, matrix, tensor) operations we would have to substitute this scalar multiplication with a tensor operation...\n",
    "\n",
    "It is better if our Variable does not have to bother about all these. What exactly we should do when we push the gradient back depends on the operation. It would be better, if each operation gave us the recipe of what to do during backprop. This would mean that every time we perform an operation, the operation defines and gives us a small function that is what we should call during backProp. This way, each operation keeps responsibility about how backprop should be implemented through it, and our Variable just needs to call this small function.\n",
    "\n",
    "Keeping track of this function instead of the local derivative value will allow us to easily extend this framework to tensor operations. In addition, keeping a note of the function instead of the value, allows us to abstract away stuff. This basically means that we can build the computation graph first, with placeholder variables independently of specific input values, and then reuse it for different inputs. This is how many deep learning frameworks work.\n",
    "\n",
    "<font color=blue>How to implement this? Every time you do an operation and create a new gradRoute, instead of calculating and storing a value for the local derivative, define a small function that calculates this local derivative value, takes the gradient that is being backpropagated and multiplies (or otherwise, depending on the operation) the two things.</font>\n"
   ]
  },
  {
   "cell_type": "code",
   "execution_count": 40,
   "id": "10331be8-58c2-4d41-a52a-63b2aaec5686",
   "metadata": {},
   "outputs": [],
   "source": [
    "# Your Code Here\n",
    "\n",
    "# IMPORTANT: SOLVED AT THE END OF THE FILE"
   ]
  },
  {
   "cell_type": "markdown",
   "id": "bee93d84-65ea-4ddd-ac06-d211f2396b14",
   "metadata": {},
   "source": [
    "---\n",
    "### <font color=blue>Exercise 5 (Easy):</font>\n",
    "    \n",
    "<font color=blue>Write some code to manually check that your gradient calculation is correct, using the property of:</font>\n",
    "\n",
    "<font color=blue>$$f'(x) = \\frac {f(x+\\epsilon) - f(x-\\epsilon)}{2 \\epsilon}$$ where $\\epsilon$ is a very small number to approximately calculate the gradient.</font>\n",
    "\n",
    "<font color=blue>Then use it to calculate the derivative of the function $f(x) = 21 * x^3$ at $x=3.2$. Double check that our framework gives you the same result.</font>\n"
   ]
  },
  {
   "cell_type": "code",
   "execution_count": 69,
   "id": "9b5d4e6a-8d9b-4851-8ad1-be413d2c98a3",
   "metadata": {},
   "outputs": [
    {
     "name": "stdout",
     "output_type": "stream",
     "text": [
      "Numerical Result: 645.1200002118185\n",
      "Using tensor: x_tensor.grad = array(645.12)\n"
     ]
    }
   ],
   "source": [
    "# Your Code Here\n",
    "\n",
    "def function(x):\n",
    "    return 21*x**3\n",
    "\n",
    "x_tensor = Tensor(3.2, requires_grad=True)\n",
    "f_tensor = 21*x_tensor**3\n",
    "f_tensor.backprop()\n",
    "\n",
    "def numerical_gradient(f, x_var: float):\n",
    "    epsilon = 10**(-4)\n",
    "    pos = f(x_var + epsilon)\n",
    "    neg = f(x_var - epsilon)\n",
    "\n",
    "    return (pos - neg)/(2*epsilon)\n",
    "\n",
    "num_grad = numerical_gradient(function, 3.2)\n",
    "\n",
    "\n",
    "print(f'Numerical Result: {num_grad}')\n",
    "print(f'Using tensor: {x_tensor.grad = }')"
   ]
  },
  {
   "cell_type": "markdown",
   "id": "678d1cb8",
   "metadata": {},
   "source": [
    "#### Warning!!!!! Execute the `Tensor` class defined below"
   ]
  },
  {
   "cell_type": "markdown",
   "id": "aed76700",
   "metadata": {},
   "source": [
    "# ALL SOLUTIONS HERE\n",
    "\n",
    "I started doing the homework on a separate file and it got out of hand. The framework is implemented of top of `numpy`.\n",
    "\n",
    "All the requirements of the exercises have been achieved:\n",
    "- The gradient are calculated using a function call everytime.\n",
    "- Implementation of a stack to perform the backpropagation, only the variables that require a gradient are included.\n",
    "- `matmul` (using `numpy.dot`) is implemented.\n",
    "- All operations vectorized using `numpy`\n",
    "- Constant included, by default the gradient ares not required. The idea is to automatically enable them when creating the model.\n",
    "- Testing implemented on this [GitHub repo I created](https://github.com/tomiock/tomi_grad). It matched the gradients calculated using the `autograd` package.\n",
    "- Nearly seamless user experience when creating a model :D\n",
    "\n",
    "Note: It requires all computations to start with a single scalar. This would usually be achieved using the `.sum()` method implemented on the class. For example you could used to calculate the batch loss when implementing a model.\n",
    "\n",
    "Sry I didnt separate the exercises, as modifying the code several time was time consuming and I had to send the file."
   ]
  },
  {
   "cell_type": "code",
   "execution_count": 70,
   "id": "4422c86d",
   "metadata": {},
   "outputs": [],
   "source": [
    "from collections.abc import Callable\n",
    "import numpy as np\n",
    "import numpy.typing as npt\n",
    "\n",
    "\n",
    "class Tensor:\n",
    "    def __init__(self, array: npt.ArrayLike, requires_grad=False, precision=np.float64):\n",
    "        self.requires_grad = requires_grad\n",
    "        self._grad: npt.ArrayLike | None = None\n",
    "        # the parents in the computation graph\n",
    "        # note that the graphs END at the loss or another scalar value\n",
    "        self.parents: list[tuple[Tensor, Callable]] = []\n",
    "\n",
    "        # TODO: type check this\n",
    "        self.precision = precision\n",
    "\n",
    "        self.arr = np.array(array, dtype=precision)\n",
    "\n",
    "        self.dim = self.arr.ndim\n",
    "        self.shape = self.arr.shape\n",
    "\n",
    "    @property\n",
    "    def grad(self):\n",
    "        return self._grad\n",
    "\n",
    "    def zeroGrad(self):\n",
    "        self._grad = np.zeros_like(self.arr)\n",
    "\n",
    "    def _backward(self, _value: np.ndarray = np.array(1.0)):\n",
    "        if not self.requires_grad:\n",
    "            return\n",
    "\n",
    "        visited = set()\n",
    "        stack = []\n",
    "        visit_stack = [self]\n",
    "\n",
    "        while visit_stack:\n",
    "            node = visit_stack[-1]\n",
    "            all_parents_visited = True\n",
    "            for p_node, _ in node.parents:\n",
    "                if p_node not in visited:\n",
    "                    all_parents_visited = False\n",
    "                    visit_stack.append(p_node)\n",
    "                    break\n",
    "\n",
    "            if all_parents_visited:\n",
    "                visit_stack.pop()\n",
    "                if node not in visited:\n",
    "                    visited.add(node)\n",
    "                    stack.append(node)\n",
    "\n",
    "        _value = np.array(_value, dtype=self.precision)\n",
    "        self._grad = _value\n",
    "\n",
    "        for node in reversed(stack):\n",
    "            if node.grad is None:\n",
    "                continue\n",
    "            for prev_node, local_grad in node.parents:\n",
    "                if prev_node.requires_grad:\n",
    "                    if prev_node._grad is None:\n",
    "                        prev_node._grad = np.zeros(prev_node.shape)\n",
    "\n",
    "                    grad_delta = local_grad(node._grad)\n",
    "                    if grad_delta.shape != prev_node._grad.shape: # Reshape grad_delta if shape mismatch\n",
    "                        grad_delta = grad_delta.reshape(prev_node._grad.shape)\n",
    "                    prev_node._grad += grad_delta\n",
    "\n",
    "    def backprop(self):\n",
    "        self._backward()\n",
    "\n",
    "    def sum(self):\n",
    "        result_value = np.sum(self.arr)\n",
    "        result = Tensor(result_value, requires_grad=self.requires_grad)\n",
    "\n",
    "        if self.requires_grad:\n",
    "\n",
    "            def _grad_sum(_value):\n",
    "                return _value * np.ones_like(self.arr)\n",
    "\n",
    "            result.parents.append((self, _grad_sum))\n",
    "\n",
    "        return result\n",
    "\n",
    "    def sqrt(self):\n",
    "        return vSqrt(self)\n",
    "\n",
    "    @property\n",
    "    def T(self):\n",
    "        return vTranspose(self)\n",
    "\n",
    "    def get_operation(self):\n",
    "        raise NotImplementedError\n",
    "\n",
    "    def get_consumers(self):\n",
    "        raise NotImplementedError\n",
    "\n",
    "    def get_inputs(self):\n",
    "        raise NotImplementedError\n",
    "\n",
    "    def __add__(self, other):\n",
    "        other = _to_var(other)\n",
    "        return vAdd(self, other)\n",
    "\n",
    "    def __radd__(self, other):\n",
    "        other = _to_var(other)\n",
    "        return vAdd(other, self)\n",
    "\n",
    "    def __sub__(self, other):\n",
    "        other = _to_var(other)\n",
    "        return vAdd(self, -1.0 * other)\n",
    "\n",
    "    def __rsub__(self, other):\n",
    "        other = _to_var(other)\n",
    "        return vAdd(other, -1.0 * self)\n",
    "\n",
    "    def __mul__(self, other):\n",
    "        other = _to_var(other)\n",
    "        return vMul(self, other)\n",
    "\n",
    "    def __rmul__(self, other):\n",
    "        other = _to_var(other)\n",
    "        return vMul(other, self)\n",
    "\n",
    "    def __truediv__(self, b):\n",
    "        return vMul(self, pow(b, -1.0))\n",
    "\n",
    "    def __rtruediv__(self, b):\n",
    "        return vMul(b, pow(self, -1))\n",
    "\n",
    "    def __pow__(self, other):\n",
    "        other = _to_var(other)\n",
    "        return vPow(self, other)\n",
    "\n",
    "    def __matmul__(self, other):\n",
    "        other = _to_var(other)\n",
    "        return vMatMul(self, other)\n",
    "\n",
    "    def __neg__(self):\n",
    "        return -1 * self\n",
    "\n",
    "    def __str__(self):\n",
    "        return str(self.arr)\n",
    "\n",
    "    def __repr__(self):\n",
    "        return str(self.arr)\n",
    "\n",
    "\n",
    "def _to_var(x):\n",
    "    if isinstance(x, Tensor):\n",
    "        x.arr = np.array(x.arr)\n",
    "        return x\n",
    "    else:\n",
    "        x_var = Tensor(x)\n",
    "        x_var.arr = np.array(x_var.arr)\n",
    "        return x_var\n",
    "\n",
    "\n",
    "def vSqrt(A: Tensor):\n",
    "    A = _to_var(A)\n",
    "    result = Tensor(np.sqrt(A.arr))\n",
    "    result.requires_grad = A.requires_grad\n",
    "\n",
    "    if A.requires_grad:\n",
    "\n",
    "        def _grad_sqrt(_value):\n",
    "            return _value * (0.5 / np.sqrt(A.arr))\n",
    "\n",
    "        result.parents.append((A, _grad_sqrt))\n",
    "    return result\n",
    "\n",
    "\n",
    "def vTranspose(A: Tensor):\n",
    "    A = _to_var(A)\n",
    "    result = Tensor(A.arr.T, requires_grad=A.requires_grad)\n",
    "    if A.requires_grad:\n",
    "\n",
    "        def _grad_t(_value):\n",
    "            return _value.T\n",
    "\n",
    "        result.parents.append((A, _grad_t))\n",
    "    return result\n",
    "\n",
    "\n",
    "def vMatMul(A: Tensor, B: Tensor):\n",
    "    A = _to_var(A)\n",
    "    B = _to_var(B)\n",
    "\n",
    "    result = np.matmul(A.arr, B.arr)\n",
    "    required_grad = A.requires_grad or B.requires_grad\n",
    "    result = Tensor(result, requires_grad=required_grad)\n",
    "\n",
    "    if A.requires_grad:\n",
    "\n",
    "        def _grad_a(_value):\n",
    "            return np.matmul(_value, B.arr.T)  # G @ B.T\n",
    "\n",
    "        result.parents.append((A, _grad_a))\n",
    "\n",
    "    if B.requires_grad:\n",
    "\n",
    "        def _grad_b(_value):\n",
    "            return np.matmul(A.arr.T, _value)  # A.T @ G\n",
    "\n",
    "        result.parents.append((B, _grad_b))\n",
    "\n",
    "    return result\n",
    "\n",
    "\n",
    "def vAdd(A: Tensor | float | int, B: Tensor | float | int):\n",
    "    A = _to_var(A)\n",
    "    B = _to_var(B)\n",
    "\n",
    "    result = Tensor(A.arr + B.arr, requires_grad=(A.requires_grad or B.requires_grad))\n",
    "\n",
    "    if A.requires_grad:\n",
    "\n",
    "        def _grad_a(_value):\n",
    "            sum_axes = []\n",
    "            for i in range(len(_value.shape)):\n",
    "                if i < len(A.shape):\n",
    "                    if A.shape[i] == 1 and _value.shape[i] > 1:\n",
    "                        sum_axes.append(i)\n",
    "                elif i >= len(A.shape):\n",
    "                    sum_axes.append(i)\n",
    "\n",
    "            return np.sum(_value, axis=tuple(sum_axes), keepdims=True)\n",
    "\n",
    "        result.parents.append((A, _grad_a))\n",
    "    if B.requires_grad:\n",
    "\n",
    "        def _grad_b(_value):\n",
    "            sum_axes = []\n",
    "            for i in range(len(_value.shape)):\n",
    "                if i < len(B.shape):\n",
    "                    if B.shape[i] == 1 and _value.shape[i] > 1:\n",
    "                        sum_axes.append(i)\n",
    "                elif i >= len(B.shape):\n",
    "                    sum_axes.append(i)\n",
    "            return np.sum(_value, axis=tuple(sum_axes), keepdims=True)\n",
    "\n",
    "        result.parents.append((B, _grad_b))\n",
    "\n",
    "    return result\n",
    "\n",
    "\n",
    "def vMul(A: Tensor, B: Tensor):\n",
    "    A = _to_var(A)\n",
    "    B = _to_var(B)\n",
    "\n",
    "    result = Tensor(A.arr * B.arr, requires_grad=(A.requires_grad or B.requires_grad))\n",
    "\n",
    "    if A.requires_grad:\n",
    "\n",
    "        def _grad_a(incoming_grad):\n",
    "            sum_axes = []\n",
    "            for i in range(len(incoming_grad.shape)):\n",
    "                if i < len(A.shape):\n",
    "                    if A.shape[i] == 1 and incoming_grad.shape[i] > 1:\n",
    "                        sum_axes.append(i)\n",
    "                elif i >= len(A.shape):\n",
    "                    sum_axes.append(i)\n",
    "            return np.sum(incoming_grad * B.arr, axis=tuple(sum_axes), keepdims=True)\n",
    "\n",
    "        result.parents.append((A, _grad_a))\n",
    "\n",
    "    if B.requires_grad:\n",
    "\n",
    "        def _grad_b(incoming_grad):\n",
    "            sum_axes = []\n",
    "            for i in range(len(incoming_grad.shape)):\n",
    "                if i < len(B.shape):\n",
    "                    if B.shape[i] == 1 and incoming_grad.shape[i] > 1:\n",
    "                        sum_axes.append(i)\n",
    "                else:\n",
    "                    sum_axes.append(i)\n",
    "            return np.sum(incoming_grad * A.arr, axis=tuple(sum_axes), keepdims=True)\n",
    "\n",
    "        result.parents.append((B, _grad_b))\n",
    "\n",
    "    return result\n",
    "\n",
    "\n",
    "def vPow(A: Tensor, exponent: Tensor):\n",
    "    A = _to_var(A)\n",
    "    _exponent = _to_var(exponent)\n",
    "\n",
    "    _array = np.array(A.arr)\n",
    "    _exponent = np.array(exponent.arr)\n",
    "    result = Tensor(\n",
    "        np.power(_array, _exponent),\n",
    "        requires_grad=(A.requires_grad or exponent.requires_grad),\n",
    "    )\n",
    "\n",
    "    if A.requires_grad:\n",
    "\n",
    "        def _grad_a(_value):\n",
    "            local_grad = exponent.arr * np.power(A.arr, exponent.arr - 1)\n",
    "\n",
    "            sum_axes = []\n",
    "            for i in range(len(_value.shape)):\n",
    "                if i < len(A.shape):\n",
    "                    if A.shape[i] == 1 and _value.shape[i] > 1:\n",
    "                        sum_axes.append(i)\n",
    "                elif i >= len(A.shape):\n",
    "                    sum_axes.append(i)\n",
    "            return np.sum(_value * local_grad, axis=tuple(sum_axes), keepdims=True)\n",
    "\n",
    "        result.parents.append((A, _grad_a))\n",
    "\n",
    "    if exponent.requires_grad:\n",
    "\n",
    "        def _grad_exponent(_value):\n",
    "            local_grad = np.power(A.arr, _exponent) * np.log(A.arr)\n",
    "\n",
    "            sum_axes = []\n",
    "            for i in range(len(_value.shape)):\n",
    "                if i < len(_exponent.shape):\n",
    "                    if exponent.shape[i] == 1 and _value.shape[i] > 1:\n",
    "                        sum_axes.append(i)\n",
    "                elif i >= len(_exponent.shape):\n",
    "                    sum_axes.append(i)\n",
    "            return np.sum(_value * local_grad, axis=tuple(sum_axes), keepdims=True)\n",
    "\n",
    "        result.parents.append((exponent, _grad_exponent))\n",
    "\n",
    "    return result"
   ]
  },
  {
   "cell_type": "markdown",
   "id": "d8e187fe",
   "metadata": {},
   "source": [
    "## Extra: Vectorized Polynomial Regression implemented\n",
    "\n",
    "The experience is nearly seemless. The only difference is that we need to use `Tensor.arr` to work with the data stored in our variables.\n",
    "\n",
    "I have verified that not using a vectorized representation is worse performance wise. It seems that using `numpy` under the hood crearly provides us some speed up. In this example, is was more than an order of magnitude faster."
   ]
  },
  {
   "cell_type": "code",
   "execution_count": 19,
   "id": "8d65e1a9",
   "metadata": {},
   "outputs": [
    {
     "name": "stdout",
     "output_type": "stream",
     "text": [
      "Training took (secs): 2.4422\n"
     ]
    },
    {
     "data": {
      "image/png": "[encoded data removed]",
      "text/plain": [
       "<Figure size 800x600 with 1 Axes>"
      ]
     },
     "metadata": {},
     "output_type": "display_data"
    },
    {
     "data": {
      "image/png": "[encoded data removed]",
      "text/plain": [
       "<Figure size 800x600 with 1 Axes>"
      ]
     },
     "metadata": {},
     "output_type": "display_data"
    },
    {
     "name": "stdout",
     "output_type": "stream",
     "text": [
      "Learned parameters (polynomial coefficients):\n",
      "  Constant term (w0): 0.3807, True: 0.3623\n",
      "  Coefficient for x (w1): 1.8308, True: 1.8250\n",
      "  Coefficient for x^2 (w2): -0.2399, True: -0.2654\n"
     ]
    }
   ],
   "source": [
    "import numpy as np\n",
    "import matplotlib.pyplot as plt\n",
    "import time\n",
    "\n",
    "\n",
    "def generate_data(m, w_true):\n",
    "    \"\"\"Generates data for a 2nd-degree polynomial with noise.\"\"\"\n",
    "    XX = 4 * np.random.rand(m) - 2  # x values between -2 and 2\n",
    "    YY = w_true[0] + w_true[1] * XX + w_true[2] * (XX ** 2)\n",
    "    YY += np.random.normal(scale=0.3, size=YY.size)  # Add noise\n",
    "    return XX, YY\n",
    "\n",
    "\n",
    "def plot_fit(XX, YY, w):\n",
    "    \"\"\"Plots the data and the fitted polynomial.\"\"\"\n",
    "    plt.figure(figsize=(8, 6))\n",
    "    plt.title('Our Estimated Fit (2nd Degree Polynomial)')\n",
    "    plt.scatter(XX, YY, label='Data Points', s=30)\n",
    "\n",
    "    x_vals = np.linspace(-2, 2, 200)  # x values for plotting the curve\n",
    "    X_plot = np.stack([np.ones_like(x_vals), x_vals, x_vals**2], axis=1)\n",
    "    # we also use matmul (np.dot) to make our predictions\n",
    "    y_vals = X_plot @ w.arr  # Predict using the model\n",
    "\n",
    "    plt.plot(x_vals, y_vals, 'r', label='Fitted Polynomial')\n",
    "    plt.xlabel(\"X\")\n",
    "    plt.ylabel(\"Y\")\n",
    "    plt.legend()\n",
    "    plt.grid(True)\n",
    "    plt.show()\n",
    "\n",
    "\n",
    "def plot_loss(training_loss):\n",
    "    \"\"\"Plots the training loss over epochs.\"\"\"\n",
    "    plt.figure(figsize=(8, 6))\n",
    "    plt.plot(training_loss, label='Training Loss')\n",
    "    plt.xlabel(\"Epoch\")\n",
    "    plt.ylabel(\"Loss\")\n",
    "    plt.title(\"Training Loss over Epochs\")\n",
    "    plt.legend()\n",
    "    plt.grid(True)\n",
    "    plt.show()\n",
    "\n",
    "\n",
    "def train(x, y, params, lr, epochs):\n",
    "    w = Tensor(params, requires_grad=True)\n",
    "    training_loss = []\n",
    "    sample_size = len(x)\n",
    "\n",
    "    start_time = time.time()\n",
    "\n",
    "    y = Tensor(y.reshape(-1, 1), requires_grad=False)\n",
    "    for epoch in range(epochs):\n",
    "        w.zeroGrad()\n",
    "\n",
    "        X = Tensor(np.stack([np.ones_like(x), x, x**2], axis=1), requires_grad=False)\n",
    "\n",
    "        out = X @ w\n",
    "        loss = ((out - y) ** 2).sum()\n",
    "\n",
    "        loss.backprop()\n",
    "        training_loss.append(loss.arr)\n",
    "\n",
    "        # we use the avg loss over all of the data samples\n",
    "        w = w - lr * w.grad / sample_size\n",
    "\n",
    "    end_time = time.time()\n",
    "    print(f\"Training took (secs): {end_time - start_time:.4f}\")\n",
    "\n",
    "    return w, training_loss\n",
    "\n",
    "\n",
    "m = 100  # Number of data points\n",
    "lr = 0.01  # Learning rate\n",
    "epochs = 1000  # Number of epochs\n",
    "\n",
    "# Generate *true* weights for a 2nd-degree polynomial\n",
    "w_true = np.random.normal(size=(3,))\n",
    "\n",
    "# Generate data using the *true* polynomial + noise\n",
    "XX, YY = generate_data(m, w_true)\n",
    "\n",
    "# Initialize weights for our model (to be learned)\n",
    "w_init = np.random.normal(size=(3, 1))  # w0, w1, w2\n",
    "\n",
    "# Train the model\n",
    "w, training_loss = train(XX, YY, w_init, lr, epochs)\n",
    "\n",
    "# Plot the results\n",
    "plot_fit(XX, YY, w)\n",
    "plot_loss(training_loss)\n",
    "\n",
    "# Print the learned and true coefficients\n",
    "print(\"Learned parameters (polynomial coefficients):\")\n",
    "print(f\"  Constant term (w0): {w.arr[0, 0]:.4f}, True: {w_true[0]:.4f}\")\n",
    "print(f\"  Coefficient for x (w1): {w.arr[1, 0]:.4f}, True: {w_true[1]:.4f}\")\n",
    "print(f\"  Coefficient for x^2 (w2): {w.arr[2, 0]:.4f}, True: {w_true[2]:.4f}\")"
   ]
  },
  {
   "cell_type": "code",
   "execution_count": null,
   "id": "d5248a8c",
   "metadata": {},
   "outputs": [],
   "source": []
  }
 ],
 "metadata": {
  "kernelspec": {
   "display_name": ".venv",
   "language": "python",
   "name": "python3"
  },
  "language_info": {
   "codemirror_mode": {
    "name": "ipython",
    "version": 3
   },
   "file_extension": ".py",
   "mimetype": "text/x-python",
   "name": "python",
   "nbconvert_exporter": "python",
   "pygments_lexer": "ipython3",
   "version": "3.12.6"
  }
 },
 "nbformat": 4,
 "nbformat_minor": 5
}
