{
  "cells": [
    {
      "cell_type": "markdown",
      "metadata": {
        "id": "-JGr-h1xvTOZ"
      },
      "source": [
        "# MNIST Simple Pointer Network\n",
        "\n",
        "In this notebook we will learn how to create a simple [Pointer Network](https://arxiv.org/abs/1506.03134) (Vinyals et al. 2015) for solving a dummy task on the MNIST dataset.\n",
        "\n",
        "A Pointer Network uses the **attention mechanism’s** output to model the conditional probability of each element on its input. This can be extremely useful in tasks that require selecting one (or more) elements of the input sequence/set to be solved.\n",
        "\n",
        "In this notebook we will play with a simple Pointer net to solve the following task: Given an MNIST image with a (query) digit we want our model to find the image that contains the consecutive digit to the query image among a set of input images. For example, imagine we use an image with the digit \"5\" as query and let the input of the model be a set of 10 images with different digits, the output of our model must be a probability distribution over those 10 images indicating the presence or not of the digit \"6\" in each of them."
      ]
    },
    {
      "cell_type": "code",
      "execution_count": 1,
      "metadata": {
        "id": "h4Z7-Wm7_5K6",
        "outputId": "ecfe9fad-8667-45cf-f86c-2627c29e83e3",
        "colab": {
          "base_uri": "https://localhost:8080/"
        }
      },
      "outputs": [
        {
          "output_type": "stream",
          "name": "stdout",
          "text": [
            "PyTorch Version:  2.6.0+cu124\n"
          ]
        }
      ],
      "source": [
        "import torch\n",
        "import torchvision\n",
        "import torch.nn as nn\n",
        "import torch.optim as optim\n",
        "import numpy as np\n",
        "from torch.utils.data import Dataset, DataLoader\n",
        "\n",
        "import matplotlib.pyplot as plt\n",
        "from collections import Counter\n",
        "import time\n",
        "import os\n",
        "import copy\n",
        "print(\"PyTorch Version: \",torch.__version__)"
      ]
    },
    {
      "cell_type": "code",
      "execution_count": 9,
      "metadata": {
        "id": "RNJh2q4lQGYF",
        "outputId": "5e7e4494-70b2-414f-98e2-431f53b88fec",
        "colab": {
          "base_uri": "https://localhost:8080/"
        }
      },
      "outputs": [
        {
          "output_type": "stream",
          "name": "stdout",
          "text": [
            "Using device: cuda\n"
          ]
        }
      ],
      "source": [
        "#If this cell fails you need to change the runtime of your colab notebook to GPU\n",
        "# Go to Runtime -> Change Runtime Type and select GPU\n",
        "assert torch.cuda.is_available(), \"GPU is not enabled\"\n",
        "\n",
        "#  use gpu if available\n",
        "device = torch.device(\"cuda\" if torch.cuda.is_available() else \"cpu\")\n",
        "print(\"Using device:\", device)"
      ]
    },
    {
      "cell_type": "markdown",
      "metadata": {
        "id": "CyM0DXter9Mp"
      },
      "source": [
        "### Create the dataset\n",
        "\n",
        "Let's start creating a Dataset class to understand better the task we want to solve. Each sample in our dataset will be formed by:\n",
        "\n",
        "* a query image\n",
        "* a set of 10 images, 9 of them selected randomly (distractors) and one selected as the consecutive digit of the digit in the query image.\n",
        "* the ground truth: a 10-D one hot vector indicating the position of the image we want our model to select (\"point to\")."
      ]
    },
    {
      "cell_type": "code",
      "execution_count": 10,
      "metadata": {
        "id": "XksdVS7GHWw0"
      },
      "outputs": [],
      "source": [
        "class MNISTAttentionDataset(Dataset):\n",
        "    \"\"\"MNIST attention toy dataset.\"\"\"\n",
        "\n",
        "    def __init__(self, num_inputs, train=True):\n",
        "        \"\"\"\n",
        "        Args:\n",
        "            num_inputs (int) - The number of images in the input of our model.\n",
        "            train (bool, optional) – If True, creates dataset from MNIST training\n",
        "                samples, otherwise from test\n",
        "        \"\"\"\n",
        "\n",
        "        self.num_inputs = num_inputs\n",
        "        self.mnist = torchvision.datasets.MNIST('../data', train=train, download=True)\n",
        "\n",
        "        # dict with samples for each class label\n",
        "        self.data = {}\n",
        "        for label in range(10):\n",
        "            #Collect in separate lists the different digits, and normalise values to [0, 1]\n",
        "            self.data[label] = self.mnist.data[self.mnist.targets == label] / 255.0\n",
        "\n",
        "\n",
        "\n",
        "    def __len__(self):\n",
        "        # The length makes little sense here, as we generate samples dynamically\n",
        "        # Here we return the number of images originally in the dataset\n",
        "        return self.mnist.data.shape[0]\n",
        "\n",
        "    def __getitem__(self, idx):\n",
        "        \"\"\"\n",
        "        Args:\n",
        "            idx (int) - an index indicating which digit should be used as query\n",
        "        \"\"\"\n",
        "        c = self.mnist.targets[idx].item()     # Find out which is the class of the digit requested\n",
        "        query = self.mnist.data[idx].flatten() / 255.0 # Get the data for the digit requested\n",
        "\n",
        "        correct_pos = np.random.randint(0, self.num_inputs) # Decide on a random position where the correct answer will be\n",
        "\n",
        "        inputs = np.zeros((self.num_inputs, 784)) # Create an array to hold the inputs (from which we have to select one)\n",
        "        for j in range(self.num_inputs):\n",
        "            if j == correct_pos: # In the correct position, place a random digit that comes from the c+1 class\n",
        "                idx = np.random.randint(0,self.data[(c+1)%10].shape[0])\n",
        "                inputs[j,:] = self.data[(c+1)%10][idx,:].flatten()\n",
        "            else: # In the rest of the positions, place random digits that come from the rest of the classes\n",
        "                c_distractor = np.random.choice([n for n in [0,1,2,3,4,5,6,7,8,9] if n!=(c+1)%10])\n",
        "                idx = np.random.randint(0,self.data[c_distractor].shape[0])\n",
        "                inputs[j,:] = self.data[c_distractor][idx,:].flatten()\n",
        "\n",
        "        sample = {'x': inputs, 'query': query, 'y': correct_pos}\n",
        "\n",
        "        return sample"
      ]
    },
    {
      "cell_type": "code",
      "execution_count": 11,
      "metadata": {
        "id": "hL2kwN-kpjUc"
      },
      "outputs": [],
      "source": [
        "num_inputs = 10\n",
        "\n",
        "train_dataset = MNISTAttentionDataset(num_inputs, train=True)\n",
        "test_dataset = MNISTAttentionDataset(num_inputs, train=False)\n",
        "\n",
        "train_loader = DataLoader(train_dataset, batch_size = 64, shuffle = True)\n",
        "test_loader  = DataLoader(test_dataset, batch_size = 1000, shuffle = False)"
      ]
    },
    {
      "cell_type": "markdown",
      "metadata": {
        "id": "RES5R0CMr3bE"
      },
      "source": [
        "### Visualize one training sample"
      ]
    },
    {
      "cell_type": "code",
      "execution_count": 12,
      "metadata": {
        "id": "fJY6zR_lqR41",
        "outputId": "4ebf3d72-77d6-4f10-da1b-7db8d68722b9",
        "colab": {
          "base_uri": "https://localhost:8080/",
          "height": 270
        }
      },
      "outputs": [
        {
          "output_type": "stream",
          "name": "stderr",
          "text": [
            "<ipython-input-10-c662d2e649e2>:46: DeprecationWarning: __array__ implementation doesn't accept a copy keyword, so passing copy=False failed. __array__ must implement 'dtype' and 'copy' keyword arguments.\n",
            "  inputs[j,:] = self.data[c_distractor][idx,:].flatten()\n",
            "<ipython-input-10-c662d2e649e2>:42: DeprecationWarning: __array__ implementation doesn't accept a copy keyword, so passing copy=False failed. __array__ must implement 'dtype' and 'copy' keyword arguments.\n",
            "  inputs[j,:] = self.data[(c+1)%10][idx,:].flatten()\n"
          ]
        },
        {
          "output_type": "stream",
          "name": "stdout",
          "text": [
            "Data: (10, 784), Query: torch.Size([784])\n"
          ]
        },
        {
          "output_type": "display_data",
          "data": {
            "text/plain": [
              "<Figure size 3300x300 with 11 Axes>"
            ],
            "image/png": "[encoded data removed]"
          },
          "metadata": {}
        }
      ],
      "source": [
        "sample = train_dataset[0]\n",
        "\n",
        "print(f\"Data: {sample['x'].shape}, Query: {sample['query'].shape}\")\n",
        "\n",
        "fig = plt.figure(figsize=(33, 3))\n",
        "plt.tight_layout()\n",
        "\n",
        "ax = plt.subplot(1, num_inputs + 1, 1)\n",
        "image = sample['query'].reshape(28,28)\n",
        "plt.imshow(image, cmap='gray')\n",
        "plt.plot([0,27,27,0,0], [0,0,27,27,0], c='b') # Draw a blue box around the query sample\n",
        "ax.set_title('Query')\n",
        "ax.axis('off')\n",
        "\n",
        "for i in range(num_inputs):\n",
        "    ax = plt.subplot(1, num_inputs + 1, i+2)\n",
        "    ax.set_title('Sample #{}'.format(i))\n",
        "    ax.axis('off')\n",
        "    image = sample['x'][i].reshape(28,28)\n",
        "    plt.imshow(image, cmap='gray')\n",
        "    if i == sample['y']:\n",
        "        plt.plot([0,27,27,0,0], [0,0,27,27,0], c='g') # Draw a green box around the correct sample\n",
        "        ax.set_title('Target')\n",
        "    else:\n",
        "        plt.plot([0,27,27,0,0], [0,0,27,27,0], c='r') # Draw a red box around the wrong sample\n",
        "        ax.set_title('Distractor #{}'.format(i))\n",
        "    ax.axis('off')\n",
        "\n",
        "plt.show()"
      ]
    },
    {
      "cell_type": "markdown",
      "metadata": {
        "id": "DVaMM-n2sFF6"
      },
      "source": [
        "### Create the model"
      ]
    },
    {
      "cell_type": "code",
      "execution_count": 13,
      "metadata": {
        "id": "BesD8B1BAW9u"
      },
      "outputs": [],
      "source": [
        "class AttentionModel(nn.Module):\n",
        "    def __init__(self, input_dim, num_inputs, hidden_dim):\n",
        "        super(AttentionModel, self).__init__()\n",
        "        self.hidden_dim = hidden_dim\n",
        "        self.num_inputs = num_inputs\n",
        "        self.input_dim  = input_dim\n",
        "\n",
        "        # Weights (Fully Connected layers)\n",
        "        self.fc_q = nn.Linear(input_dim, hidden_dim) # Query FC\n",
        "        self.fc_k = nn.Linear(input_dim, hidden_dim) # Keys FC. Here the input acts as the keys, and there is no value\n",
        "        self.fc_v = nn.Linear(hidden_dim, 1) # Values FC\n",
        "\n",
        "    def scoringAdditive(self, query, keys):\n",
        "        # Query is                                              (B X 1 X input_dim)\n",
        "        # Repeat (tile) the query so that it has the same size as the keys (input)\n",
        "        query = query.repeat(1, self.num_inputs, 1)           # (B X num_inputs X input_dim)\n",
        "        query = torch.tanh(self.fc_q(query))                  # (B X num_inputs X hidden_dim)\n",
        "\n",
        "        # Keys is                                               (B X num_inputs X input_dim)\n",
        "        keys = torch.tanh(self.fc_k(keys))                    # (B X num_inputs X hidden_dim)\n",
        "\n",
        "        # Attention Score\n",
        "        score = torch.tanh(query + keys )                     # (B X num_inputs X hidden_dim)\n",
        "        score = self.fc_v(score)                              # (B X num_inputs X 1)\n",
        "        return score\n",
        "\n",
        "    def forward(self, x, query):\n",
        "        query = query.unsqueeze(1) # (B x input_dim) -> (B x 1 x input_dim)\n",
        "\n",
        "        # Calculate attention scores\n",
        "        output = self.scoringAdditive(query, x)\n",
        "        output = output.squeeze()       # (B x 1 x num_inputs) -> (B x num_inputs)\n",
        "        return output"
      ]
    },
    {
      "cell_type": "markdown",
      "metadata": {
        "id": "y_yCyvgg9Pbj"
      },
      "source": [
        "<font color=\"blue\">\n",
        "\n",
        "**QUESTION**: The Additive score gives logits that we should pass through a softmax to get the final attention weights. Why is there no softmax in the model above?</font>"
      ]
    },
    {
      "cell_type": "markdown",
      "metadata": {
        "id": "Yfo5uFMnnHqy"
      },
      "source": [
        "---\n",
        "\n",
        "---\n",
        "\n",
        "\n",
        "Because when using additive attention as the scoring function, we are using a couple of weights to set the K and Q to have the same dimensions. In this particular case we would use a tanh on the sum of the Q' and K', that then would be multiplied by the V.\n",
        "\n",
        "---"
      ]
    },
    {
      "cell_type": "code",
      "execution_count": 30,
      "metadata": {
        "id": "nsyUZE0lHJ5-",
        "outputId": "c986328c-a7bc-4be1-9f4b-c0197a46e98e",
        "colab": {
          "base_uri": "https://localhost:8080/"
        }
      },
      "outputs": [
        {
          "output_type": "stream",
          "name": "stdout",
          "text": [
            "AttentionModel(\n",
            "  (fc_q): Linear(in_features=784, out_features=256, bias=True)\n",
            "  (fc_k): Linear(in_features=784, out_features=256, bias=True)\n",
            "  (fc_v): Linear(in_features=256, out_features=1, bias=True)\n",
            ")\n"
          ]
        }
      ],
      "source": [
        "input_dim, num_inputs, hidden_dim = (784, 10, 256)\n",
        "\n",
        "model = AttentionModel(input_dim, num_inputs, hidden_dim)\n",
        "print(model)"
      ]
    },
    {
      "cell_type": "markdown",
      "metadata": {
        "id": "xmp0kuk2z3Rx"
      },
      "source": [
        "### Define the training method and train"
      ]
    },
    {
      "cell_type": "code",
      "execution_count": 31,
      "metadata": {
        "id": "6ZvGWqwDrc-V"
      },
      "outputs": [],
      "source": [
        "def train(model, device, train_loader, criterion, optimizer, epoch, log_interval = 100):\n",
        "    # Method to perform one epoch of training\n",
        "    model.train()\n",
        "    loss_values = []\n",
        "\n",
        "    for batch_idx, sample_batched in enumerate(train_loader):\n",
        "        data = sample_batched['x'].float()\n",
        "        query = sample_batched['query'].float()\n",
        "        target = sample_batched['y']\n",
        "        #print(data.shape, query.shape)\n",
        "        data, query, target = data.to(device), query.to(device), target.to(device)\n",
        "\n",
        "        optimizer.zero_grad()\n",
        "        output = model(data, query)\n",
        "        loss = criterion(output, target)\n",
        "        loss.backward()\n",
        "        optimizer.step()\n",
        "\n",
        "        loss_values.append(loss.detach().cpu().item())\n",
        "        if batch_idx % log_interval == 0:\n",
        "            print('Train Epoch: {} [{}/{} ({:.0f}%)]\\tLoss: {:.6f}'.format(\n",
        "                epoch, batch_idx * len(data), len(train_loader.dataset),\n",
        "                100. * batch_idx / len(train_loader), loss.item()))\n",
        "\n",
        "    return loss_values"
      ]
    },
    {
      "cell_type": "code",
      "execution_count": 32,
      "metadata": {
        "id": "7L5ZTARBnHqy",
        "outputId": "13c288bf-a3a8-494b-9ccd-cf6f82657cd8",
        "colab": {
          "base_uri": "https://localhost:8080/"
        }
      },
      "outputs": [
        {
          "output_type": "stream",
          "name": "stderr",
          "text": [
            "<ipython-input-10-c662d2e649e2>:46: DeprecationWarning: __array__ implementation doesn't accept a copy keyword, so passing copy=False failed. __array__ must implement 'dtype' and 'copy' keyword arguments.\n",
            "  inputs[j,:] = self.data[c_distractor][idx,:].flatten()\n",
            "<ipython-input-10-c662d2e649e2>:42: DeprecationWarning: __array__ implementation doesn't accept a copy keyword, so passing copy=False failed. __array__ must implement 'dtype' and 'copy' keyword arguments.\n",
            "  inputs[j,:] = self.data[(c+1)%10][idx,:].flatten()\n"
          ]
        },
        {
          "output_type": "stream",
          "name": "stdout",
          "text": [
            "Train Epoch: 1 [0/60000 (0%)]\tLoss: 2.297871\n",
            "Train Epoch: 1 [6400/60000 (11%)]\tLoss: 1.672584\n",
            "Train Epoch: 1 [12800/60000 (21%)]\tLoss: 1.017722\n",
            "Train Epoch: 1 [19200/60000 (32%)]\tLoss: 1.101143\n",
            "Train Epoch: 1 [25600/60000 (43%)]\tLoss: 0.721728\n",
            "Train Epoch: 1 [32000/60000 (53%)]\tLoss: 0.825024\n",
            "Train Epoch: 1 [38400/60000 (64%)]\tLoss: 0.514791\n",
            "Train Epoch: 1 [44800/60000 (75%)]\tLoss: 0.535993\n",
            "Train Epoch: 1 [51200/60000 (85%)]\tLoss: 0.476660\n",
            "Train Epoch: 1 [57600/60000 (96%)]\tLoss: 0.722663\n",
            "Train Epoch: 2 [0/60000 (0%)]\tLoss: 0.709870\n",
            "Train Epoch: 2 [6400/60000 (11%)]\tLoss: 0.561100\n",
            "Train Epoch: 2 [12800/60000 (21%)]\tLoss: 0.681940\n",
            "Train Epoch: 2 [19200/60000 (32%)]\tLoss: 0.486973\n",
            "Train Epoch: 2 [25600/60000 (43%)]\tLoss: 0.561033\n",
            "Train Epoch: 2 [32000/60000 (53%)]\tLoss: 0.477599\n",
            "Train Epoch: 2 [38400/60000 (64%)]\tLoss: 0.478013\n",
            "Train Epoch: 2 [44800/60000 (75%)]\tLoss: 0.454949\n",
            "Train Epoch: 2 [51200/60000 (85%)]\tLoss: 0.413003\n",
            "Train Epoch: 2 [57600/60000 (96%)]\tLoss: 0.415352\n",
            "Train Epoch: 3 [0/60000 (0%)]\tLoss: 0.321041\n",
            "Train Epoch: 3 [6400/60000 (11%)]\tLoss: 0.530364\n",
            "Train Epoch: 3 [12800/60000 (21%)]\tLoss: 0.309746\n",
            "Train Epoch: 3 [19200/60000 (32%)]\tLoss: 0.368729\n",
            "Train Epoch: 3 [25600/60000 (43%)]\tLoss: 0.484684\n",
            "Train Epoch: 3 [32000/60000 (53%)]\tLoss: 0.292520\n",
            "Train Epoch: 3 [38400/60000 (64%)]\tLoss: 0.405010\n",
            "Train Epoch: 3 [44800/60000 (75%)]\tLoss: 0.457872\n",
            "Train Epoch: 3 [51200/60000 (85%)]\tLoss: 0.298166\n",
            "Train Epoch: 3 [57600/60000 (96%)]\tLoss: 0.355666\n",
            "Train Epoch: 4 [0/60000 (0%)]\tLoss: 0.430457\n",
            "Train Epoch: 4 [6400/60000 (11%)]\tLoss: 0.293305\n",
            "Train Epoch: 4 [12800/60000 (21%)]\tLoss: 0.391906\n",
            "Train Epoch: 4 [19200/60000 (32%)]\tLoss: 0.330566\n",
            "Train Epoch: 4 [25600/60000 (43%)]\tLoss: 0.281653\n",
            "Train Epoch: 4 [32000/60000 (53%)]\tLoss: 0.318157\n",
            "Train Epoch: 4 [38400/60000 (64%)]\tLoss: 0.277901\n",
            "Train Epoch: 4 [44800/60000 (75%)]\tLoss: 0.175601\n",
            "Train Epoch: 4 [51200/60000 (85%)]\tLoss: 0.216129\n",
            "Train Epoch: 4 [57600/60000 (96%)]\tLoss: 0.431188\n",
            "Train Epoch: 5 [0/60000 (0%)]\tLoss: 0.329081\n",
            "Train Epoch: 5 [6400/60000 (11%)]\tLoss: 0.443167\n",
            "Train Epoch: 5 [12800/60000 (21%)]\tLoss: 0.294178\n",
            "Train Epoch: 5 [19200/60000 (32%)]\tLoss: 0.183725\n",
            "Train Epoch: 5 [25600/60000 (43%)]\tLoss: 0.342233\n",
            "Train Epoch: 5 [32000/60000 (53%)]\tLoss: 0.488330\n",
            "Train Epoch: 5 [38400/60000 (64%)]\tLoss: 0.219407\n",
            "Train Epoch: 5 [44800/60000 (75%)]\tLoss: 0.379747\n",
            "Train Epoch: 5 [51200/60000 (85%)]\tLoss: 0.293521\n",
            "Train Epoch: 5 [57600/60000 (96%)]\tLoss: 0.301579\n",
            "Train Epoch: 6 [0/60000 (0%)]\tLoss: 0.243569\n",
            "Train Epoch: 6 [6400/60000 (11%)]\tLoss: 0.321243\n",
            "Train Epoch: 6 [12800/60000 (21%)]\tLoss: 0.327664\n",
            "Train Epoch: 6 [19200/60000 (32%)]\tLoss: 0.309860\n",
            "Train Epoch: 6 [25600/60000 (43%)]\tLoss: 0.337077\n",
            "Train Epoch: 6 [32000/60000 (53%)]\tLoss: 0.332392\n",
            "Train Epoch: 6 [38400/60000 (64%)]\tLoss: 0.163416\n",
            "Train Epoch: 6 [44800/60000 (75%)]\tLoss: 0.348568\n",
            "Train Epoch: 6 [51200/60000 (85%)]\tLoss: 0.223407\n",
            "Train Epoch: 6 [57600/60000 (96%)]\tLoss: 0.350648\n",
            "Train Epoch: 7 [0/60000 (0%)]\tLoss: 0.163708\n",
            "Train Epoch: 7 [6400/60000 (11%)]\tLoss: 0.242819\n",
            "Train Epoch: 7 [12800/60000 (21%)]\tLoss: 0.286186\n",
            "Train Epoch: 7 [19200/60000 (32%)]\tLoss: 0.249847\n",
            "Train Epoch: 7 [25600/60000 (43%)]\tLoss: 0.213513\n",
            "Train Epoch: 7 [32000/60000 (53%)]\tLoss: 0.243268\n",
            "Train Epoch: 7 [38400/60000 (64%)]\tLoss: 0.299085\n",
            "Train Epoch: 7 [44800/60000 (75%)]\tLoss: 0.296896\n",
            "Train Epoch: 7 [51200/60000 (85%)]\tLoss: 0.180524\n",
            "Train Epoch: 7 [57600/60000 (96%)]\tLoss: 0.207882\n",
            "Train Epoch: 8 [0/60000 (0%)]\tLoss: 0.174428\n",
            "Train Epoch: 8 [6400/60000 (11%)]\tLoss: 0.293544\n",
            "Train Epoch: 8 [12800/60000 (21%)]\tLoss: 0.193853\n",
            "Train Epoch: 8 [19200/60000 (32%)]\tLoss: 0.155344\n",
            "Train Epoch: 8 [25600/60000 (43%)]\tLoss: 0.072236\n",
            "Train Epoch: 8 [32000/60000 (53%)]\tLoss: 0.206586\n",
            "Train Epoch: 8 [38400/60000 (64%)]\tLoss: 0.101917\n",
            "Train Epoch: 8 [44800/60000 (75%)]\tLoss: 0.206182\n",
            "Train Epoch: 8 [51200/60000 (85%)]\tLoss: 0.365998\n",
            "Train Epoch: 8 [57600/60000 (96%)]\tLoss: 0.289379\n",
            "Train Epoch: 9 [0/60000 (0%)]\tLoss: 0.104868\n",
            "Train Epoch: 9 [6400/60000 (11%)]\tLoss: 0.181565\n",
            "Train Epoch: 9 [12800/60000 (21%)]\tLoss: 0.371134\n",
            "Train Epoch: 9 [19200/60000 (32%)]\tLoss: 0.313480\n",
            "Train Epoch: 9 [25600/60000 (43%)]\tLoss: 0.260272\n",
            "Train Epoch: 9 [32000/60000 (53%)]\tLoss: 0.274054\n",
            "Train Epoch: 9 [38400/60000 (64%)]\tLoss: 0.430188\n",
            "Train Epoch: 9 [44800/60000 (75%)]\tLoss: 0.133224\n",
            "Train Epoch: 9 [51200/60000 (85%)]\tLoss: 0.144786\n",
            "Train Epoch: 9 [57600/60000 (96%)]\tLoss: 0.357943\n",
            "Train Epoch: 10 [0/60000 (0%)]\tLoss: 0.412038\n",
            "Train Epoch: 10 [6400/60000 (11%)]\tLoss: 0.113299\n",
            "Train Epoch: 10 [12800/60000 (21%)]\tLoss: 0.139280\n",
            "Train Epoch: 10 [19200/60000 (32%)]\tLoss: 0.251650\n",
            "Train Epoch: 10 [25600/60000 (43%)]\tLoss: 0.143758\n",
            "Train Epoch: 10 [32000/60000 (53%)]\tLoss: 0.225620\n",
            "Train Epoch: 10 [38400/60000 (64%)]\tLoss: 0.136297\n",
            "Train Epoch: 10 [44800/60000 (75%)]\tLoss: 0.207174\n",
            "Train Epoch: 10 [51200/60000 (85%)]\tLoss: 0.198145\n",
            "Train Epoch: 10 [57600/60000 (96%)]\tLoss: 0.197109\n"
          ]
        }
      ],
      "source": [
        "model = model.to(device)\n",
        "\n",
        "optimizer = optim.Adam(model.parameters())\n",
        "\n",
        "criterion = nn.CrossEntropyLoss()\n",
        "\n",
        "epochs = 10\n",
        "\n",
        "loss_history = []\n",
        "for epoch in range(1, epochs + 1):\n",
        "    loss_values = train(model, device, train_loader, criterion, optimizer, epoch)\n",
        "    loss_history += loss_values"
      ]
    },
    {
      "cell_type": "code",
      "execution_count": 33,
      "metadata": {
        "id": "UK66OnlVnHqz",
        "outputId": "8a2f48a9-3859-4a26-e07d-2708fd26a67e",
        "colab": {
          "base_uri": "https://localhost:8080/",
          "height": 448
        }
      },
      "outputs": [
        {
          "output_type": "execute_result",
          "data": {
            "text/plain": [
              "[<matplotlib.lines.Line2D at 0x7e4466272290>]"
            ]
          },
          "metadata": {},
          "execution_count": 33
        },
        {
          "output_type": "display_data",
          "data": {
            "text/plain": [
              "<Figure size 640x480 with 1 Axes>"
            ],
            "image/png": "[encoded data removed]"
          },
          "metadata": {}
        }
      ],
      "source": [
        "plt.plot(loss_history)"
      ]
    },
    {
      "cell_type": "markdown",
      "metadata": {
        "id": "jONlgxyaEwC6"
      },
      "source": [
        "### Evaluate the trained model"
      ]
    },
    {
      "cell_type": "code",
      "execution_count": 34,
      "metadata": {
        "id": "izgtCdk5DV01"
      },
      "outputs": [],
      "source": [
        "def evaluate(model, device, test_loader):\n",
        "    model.eval()\n",
        "    total = 0.\n",
        "    ok = 0.\n",
        "    for batch_idx, sample_batched in enumerate(test_loader):\n",
        "        data = sample_batched['x'].float()\n",
        "        query = sample_batched['query'].float()\n",
        "        target = sample_batched['y'].numpy()\n",
        "        data, query = data.to(device), query.to(device)\n",
        "\n",
        "        output = model(data, query)\n",
        "        pred = np.argmax(output.detach().cpu().numpy(), axis=1)\n",
        "\n",
        "        ok += np.sum(pred == target)\n",
        "        total += len(test_loader)\n",
        "\n",
        "    print('Accuracy = ', ok/total)"
      ]
    },
    {
      "cell_type": "code",
      "execution_count": 35,
      "metadata": {
        "id": "REhHTDaenHqz",
        "outputId": "96d9c542-5605-4c82-d4c4-337ac069b644",
        "colab": {
          "base_uri": "https://localhost:8080/"
        }
      },
      "outputs": [
        {
          "output_type": "stream",
          "name": "stderr",
          "text": [
            "<ipython-input-10-c662d2e649e2>:46: DeprecationWarning: __array__ implementation doesn't accept a copy keyword, so passing copy=False failed. __array__ must implement 'dtype' and 'copy' keyword arguments.\n",
            "  inputs[j,:] = self.data[c_distractor][idx,:].flatten()\n",
            "<ipython-input-10-c662d2e649e2>:42: DeprecationWarning: __array__ implementation doesn't accept a copy keyword, so passing copy=False failed. __array__ must implement 'dtype' and 'copy' keyword arguments.\n",
            "  inputs[j,:] = self.data[(c+1)%10][idx,:].flatten()\n"
          ]
        },
        {
          "output_type": "stream",
          "name": "stdout",
          "text": [
            "Accuracy =  91.76\n"
          ]
        }
      ],
      "source": [
        "evaluate(model, device, test_loader)"
      ]
    },
    {
      "cell_type": "markdown",
      "metadata": {
        "id": "CaOoDxjhhjxz"
      },
      "source": [
        "<font color=\"blue\">\n",
        "\n",
        "**EXERCISE 1**: Starting from the previous model as a template, implement the Dot-product Attention scoring function and substitute the additive one we were using before. Retrain and evalute the model.</font>\n",
        "\n",
        "<font color=\"blue\">\n",
        "\n",
        "> Hint: To transpose a tensor along specific dimensions you can use `torch.permute()`\n",
        "</font>\n",
        "\n",
        "\n",
        "<font color=\"blue\">\n",
        "\n",
        "> Hint: To perform a batch matrix-matrix product, use the function `torch.bmm()` https://pytorch.org/docs/stable/generated/torch.bmm.html\n",
        "</font>"
      ]
    },
    {
      "cell_type": "code",
      "execution_count": 36,
      "metadata": {
        "id": "HfGt2EtCnHqz"
      },
      "outputs": [],
      "source": [
        "class DotAttentionModel(nn.Module):\n",
        "    def __init__(self, input_dim, num_inputs, hidden_dim):\n",
        "        super(DotAttentionModel, self).__init__()\n",
        "        self.num_inputs = num_inputs\n",
        "        self.input_dim  = input_dim\n",
        "\n",
        "        # Weights (Fully Connected layers)\n",
        "        self.fc_q = nn.Linear(input_dim, hidden_dim) # Query FC\n",
        "        self.fc_k = nn.Linear(input_dim, hidden_dim) # Keys FC. Here the input acts as the keys, and there is no value\n",
        "        self.fc_v = nn.Linear(hidden_dim, 1) # Values FC\n",
        "\n",
        "    def attention_dot(self, query, keys):\n",
        "        # Query is                                              (B X 1 X input_dim)\n",
        "        # Repeat (tile) the query so that it has the same size as the keys (input)\n",
        "\n",
        "        query = torch.tanh(self.fc_q(query))\n",
        "        keys = torch.tanh(self.fc_k(keys))\n",
        "\n",
        "        qk = torch.bmm(query, keys.permute(0, 2, 1))\n",
        "\n",
        "        return (qk / torch.sqrt(torch.tensor(self.input_dim))).permute(0,2,1)\n",
        "\n",
        "    def forward(self, x, query):\n",
        "        query = query.unsqueeze(1) # (B x input_dim) -> (B x 1 x input_dim)\n",
        "\n",
        "        # Calculate attention scores\n",
        "        output = self.attention_dot(query, x)\n",
        "        output = output.squeeze()\n",
        "        return output\n"
      ]
    },
    {
      "cell_type": "code",
      "source": [
        "model_dot = DotAttentionModel(input_dim, num_inputs, hidden_dim)\n",
        "print(model)"
      ],
      "metadata": {
        "id": "Evh4BH5AinDF",
        "outputId": "382c12d8-0d36-4273-baa6-64bc2a19c16a",
        "colab": {
          "base_uri": "https://localhost:8080/"
        }
      },
      "execution_count": 37,
      "outputs": [
        {
          "output_type": "stream",
          "name": "stdout",
          "text": [
            "AttentionModel(\n",
            "  (fc_q): Linear(in_features=784, out_features=256, bias=True)\n",
            "  (fc_k): Linear(in_features=784, out_features=256, bias=True)\n",
            "  (fc_v): Linear(in_features=256, out_features=1, bias=True)\n",
            ")\n"
          ]
        }
      ]
    },
    {
      "cell_type": "code",
      "source": [
        "model_dot = model_dot.to(device)\n",
        "\n",
        "optimizer = optim.Adam(model_dot.parameters())\n",
        "\n",
        "criterion = nn.CrossEntropyLoss()\n",
        "\n",
        "epochs = 10\n",
        "\n",
        "loss_history = []\n",
        "for epoch in range(1, epochs + 1):\n",
        "    loss_values = train(model_dot, device, train_loader, criterion, optimizer, epoch)\n",
        "    loss_history += loss_values"
      ],
      "metadata": {
        "id": "1aEKHAoXi1Dv",
        "outputId": "12572b7d-3c10-43c4-a1f3-dedc52ecae05",
        "colab": {
          "base_uri": "https://localhost:8080/"
        }
      },
      "execution_count": 38,
      "outputs": [
        {
          "output_type": "stream",
          "name": "stdout",
          "text": [
            "Train Epoch: 1 [0/60000 (0%)]\tLoss: 2.303143\n"
          ]
        },
        {
          "output_type": "stream",
          "name": "stderr",
          "text": [
            "<ipython-input-10-c662d2e649e2>:46: DeprecationWarning: __array__ implementation doesn't accept a copy keyword, so passing copy=False failed. __array__ must implement 'dtype' and 'copy' keyword arguments.\n",
            "  inputs[j,:] = self.data[c_distractor][idx,:].flatten()\n",
            "<ipython-input-10-c662d2e649e2>:42: DeprecationWarning: __array__ implementation doesn't accept a copy keyword, so passing copy=False failed. __array__ must implement 'dtype' and 'copy' keyword arguments.\n",
            "  inputs[j,:] = self.data[(c+1)%10][idx,:].flatten()\n"
          ]
        },
        {
          "output_type": "stream",
          "name": "stdout",
          "text": [
            "Train Epoch: 1 [6400/60000 (11%)]\tLoss: 1.161703\n",
            "Train Epoch: 1 [12800/60000 (21%)]\tLoss: 1.003932\n",
            "Train Epoch: 1 [19200/60000 (32%)]\tLoss: 0.840882\n",
            "Train Epoch: 1 [25600/60000 (43%)]\tLoss: 0.810254\n",
            "Train Epoch: 1 [32000/60000 (53%)]\tLoss: 0.657366\n",
            "Train Epoch: 1 [38400/60000 (64%)]\tLoss: 0.748101\n",
            "Train Epoch: 1 [44800/60000 (75%)]\tLoss: 0.702173\n",
            "Train Epoch: 1 [51200/60000 (85%)]\tLoss: 0.732862\n",
            "Train Epoch: 1 [57600/60000 (96%)]\tLoss: 0.630539\n",
            "Train Epoch: 2 [0/60000 (0%)]\tLoss: 0.578431\n",
            "Train Epoch: 2 [6400/60000 (11%)]\tLoss: 0.634152\n",
            "Train Epoch: 2 [12800/60000 (21%)]\tLoss: 0.383245\n",
            "Train Epoch: 2 [19200/60000 (32%)]\tLoss: 0.831299\n",
            "Train Epoch: 2 [25600/60000 (43%)]\tLoss: 0.677164\n",
            "Train Epoch: 2 [32000/60000 (53%)]\tLoss: 0.709087\n",
            "Train Epoch: 2 [38400/60000 (64%)]\tLoss: 0.401640\n",
            "Train Epoch: 2 [44800/60000 (75%)]\tLoss: 0.523486\n",
            "Train Epoch: 2 [51200/60000 (85%)]\tLoss: 0.570520\n",
            "Train Epoch: 2 [57600/60000 (96%)]\tLoss: 0.385506\n",
            "Train Epoch: 3 [0/60000 (0%)]\tLoss: 0.482290\n",
            "Train Epoch: 3 [6400/60000 (11%)]\tLoss: 0.525276\n",
            "Train Epoch: 3 [12800/60000 (21%)]\tLoss: 0.519073\n",
            "Train Epoch: 3 [19200/60000 (32%)]\tLoss: 0.561215\n",
            "Train Epoch: 3 [25600/60000 (43%)]\tLoss: 0.315964\n",
            "Train Epoch: 3 [32000/60000 (53%)]\tLoss: 0.586327\n",
            "Train Epoch: 3 [38400/60000 (64%)]\tLoss: 0.463968\n",
            "Train Epoch: 3 [44800/60000 (75%)]\tLoss: 0.385478\n",
            "Train Epoch: 3 [51200/60000 (85%)]\tLoss: 0.595375\n",
            "Train Epoch: 3 [57600/60000 (96%)]\tLoss: 0.598823\n",
            "Train Epoch: 4 [0/60000 (0%)]\tLoss: 0.593595\n",
            "Train Epoch: 4 [6400/60000 (11%)]\tLoss: 0.462651\n",
            "Train Epoch: 4 [12800/60000 (21%)]\tLoss: 0.508537\n",
            "Train Epoch: 4 [19200/60000 (32%)]\tLoss: 0.465432\n",
            "Train Epoch: 4 [25600/60000 (43%)]\tLoss: 0.379661\n",
            "Train Epoch: 4 [32000/60000 (53%)]\tLoss: 0.467398\n",
            "Train Epoch: 4 [38400/60000 (64%)]\tLoss: 0.411178\n",
            "Train Epoch: 4 [44800/60000 (75%)]\tLoss: 0.530615\n",
            "Train Epoch: 4 [51200/60000 (85%)]\tLoss: 0.696956\n",
            "Train Epoch: 4 [57600/60000 (96%)]\tLoss: 0.467876\n",
            "Train Epoch: 5 [0/60000 (0%)]\tLoss: 0.545274\n",
            "Train Epoch: 5 [6400/60000 (11%)]\tLoss: 0.516311\n",
            "Train Epoch: 5 [12800/60000 (21%)]\tLoss: 0.379951\n",
            "Train Epoch: 5 [19200/60000 (32%)]\tLoss: 0.447399\n",
            "Train Epoch: 5 [25600/60000 (43%)]\tLoss: 0.360601\n",
            "Train Epoch: 5 [32000/60000 (53%)]\tLoss: 0.618303\n",
            "Train Epoch: 5 [38400/60000 (64%)]\tLoss: 0.566740\n",
            "Train Epoch: 5 [44800/60000 (75%)]\tLoss: 0.526187\n",
            "Train Epoch: 5 [51200/60000 (85%)]\tLoss: 0.354245\n",
            "Train Epoch: 5 [57600/60000 (96%)]\tLoss: 0.493424\n",
            "Train Epoch: 6 [0/60000 (0%)]\tLoss: 0.492088\n",
            "Train Epoch: 6 [6400/60000 (11%)]\tLoss: 0.532067\n",
            "Train Epoch: 6 [12800/60000 (21%)]\tLoss: 0.474996\n",
            "Train Epoch: 6 [19200/60000 (32%)]\tLoss: 0.282085\n",
            "Train Epoch: 6 [25600/60000 (43%)]\tLoss: 0.548489\n",
            "Train Epoch: 6 [32000/60000 (53%)]\tLoss: 0.319232\n",
            "Train Epoch: 6 [38400/60000 (64%)]\tLoss: 0.567603\n",
            "Train Epoch: 6 [44800/60000 (75%)]\tLoss: 0.309608\n",
            "Train Epoch: 6 [51200/60000 (85%)]\tLoss: 0.380688\n",
            "Train Epoch: 6 [57600/60000 (96%)]\tLoss: 0.476245\n",
            "Train Epoch: 7 [0/60000 (0%)]\tLoss: 0.504787\n",
            "Train Epoch: 7 [6400/60000 (11%)]\tLoss: 0.353448\n",
            "Train Epoch: 7 [12800/60000 (21%)]\tLoss: 0.479244\n",
            "Train Epoch: 7 [19200/60000 (32%)]\tLoss: 0.717237\n",
            "Train Epoch: 7 [25600/60000 (43%)]\tLoss: 0.566133\n",
            "Train Epoch: 7 [32000/60000 (53%)]\tLoss: 0.332418\n",
            "Train Epoch: 7 [38400/60000 (64%)]\tLoss: 0.372433\n",
            "Train Epoch: 7 [44800/60000 (75%)]\tLoss: 0.447501\n",
            "Train Epoch: 7 [51200/60000 (85%)]\tLoss: 0.426564\n",
            "Train Epoch: 7 [57600/60000 (96%)]\tLoss: 0.536677\n",
            "Train Epoch: 8 [0/60000 (0%)]\tLoss: 0.381336\n",
            "Train Epoch: 8 [6400/60000 (11%)]\tLoss: 0.546785\n",
            "Train Epoch: 8 [12800/60000 (21%)]\tLoss: 0.357907\n",
            "Train Epoch: 8 [19200/60000 (32%)]\tLoss: 0.386778\n",
            "Train Epoch: 8 [25600/60000 (43%)]\tLoss: 0.507275\n",
            "Train Epoch: 8 [32000/60000 (53%)]\tLoss: 0.416803\n",
            "Train Epoch: 8 [38400/60000 (64%)]\tLoss: 0.417306\n",
            "Train Epoch: 8 [44800/60000 (75%)]\tLoss: 0.517309\n",
            "Train Epoch: 8 [51200/60000 (85%)]\tLoss: 0.640286\n",
            "Train Epoch: 8 [57600/60000 (96%)]\tLoss: 0.492080\n",
            "Train Epoch: 9 [0/60000 (0%)]\tLoss: 0.351325\n",
            "Train Epoch: 9 [6400/60000 (11%)]\tLoss: 0.495606\n",
            "Train Epoch: 9 [12800/60000 (21%)]\tLoss: 0.356413\n",
            "Train Epoch: 9 [19200/60000 (32%)]\tLoss: 0.429554\n",
            "Train Epoch: 9 [25600/60000 (43%)]\tLoss: 0.402192\n",
            "Train Epoch: 9 [32000/60000 (53%)]\tLoss: 0.416961\n",
            "Train Epoch: 9 [38400/60000 (64%)]\tLoss: 0.510133\n",
            "Train Epoch: 9 [44800/60000 (75%)]\tLoss: 0.405259\n",
            "Train Epoch: 9 [51200/60000 (85%)]\tLoss: 0.301433\n",
            "Train Epoch: 9 [57600/60000 (96%)]\tLoss: 0.401466\n",
            "Train Epoch: 10 [0/60000 (0%)]\tLoss: 0.385447\n",
            "Train Epoch: 10 [6400/60000 (11%)]\tLoss: 0.506560\n",
            "Train Epoch: 10 [12800/60000 (21%)]\tLoss: 0.330324\n",
            "Train Epoch: 10 [19200/60000 (32%)]\tLoss: 0.428694\n",
            "Train Epoch: 10 [25600/60000 (43%)]\tLoss: 0.308007\n",
            "Train Epoch: 10 [32000/60000 (53%)]\tLoss: 0.398132\n",
            "Train Epoch: 10 [38400/60000 (64%)]\tLoss: 0.323910\n",
            "Train Epoch: 10 [44800/60000 (75%)]\tLoss: 0.469468\n",
            "Train Epoch: 10 [51200/60000 (85%)]\tLoss: 0.387176\n",
            "Train Epoch: 10 [57600/60000 (96%)]\tLoss: 0.245997\n"
          ]
        }
      ]
    },
    {
      "cell_type": "code",
      "source": [
        "evaluate(model_dot, device, test_loader)"
      ],
      "metadata": {
        "id": "O7YjnndEi6y1",
        "outputId": "7d518d63-4354-4a54-e796-1dc8e9a34385",
        "colab": {
          "base_uri": "https://localhost:8080/"
        }
      },
      "execution_count": 39,
      "outputs": [
        {
          "output_type": "stream",
          "name": "stderr",
          "text": [
            "<ipython-input-10-c662d2e649e2>:46: DeprecationWarning: __array__ implementation doesn't accept a copy keyword, so passing copy=False failed. __array__ must implement 'dtype' and 'copy' keyword arguments.\n",
            "  inputs[j,:] = self.data[c_distractor][idx,:].flatten()\n",
            "<ipython-input-10-c662d2e649e2>:42: DeprecationWarning: __array__ implementation doesn't accept a copy keyword, so passing copy=False failed. __array__ must implement 'dtype' and 'copy' keyword arguments.\n",
            "  inputs[j,:] = self.data[(c+1)%10][idx,:].flatten()\n"
          ]
        },
        {
          "output_type": "stream",
          "name": "stdout",
          "text": [
            "Accuracy =  90.6\n"
          ]
        }
      ]
    },
    {
      "cell_type": "code",
      "source": [],
      "metadata": {
        "id": "QwFebPhQNonH"
      },
      "execution_count": null,
      "outputs": []
    }
  ],
  "metadata": {
    "accelerator": "GPU",
    "colab": {
      "provenance": []
    },
    "kernelspec": {
      "display_name": "pytorch",
      "language": "python",
      "name": "pytorch"
    },
    "language_info": {
      "codemirror_mode": {
        "name": "ipython",
        "version": 3
      },
      "file_extension": ".py",
      "mimetype": "text/x-python",
      "name": "python",
      "nbconvert_exporter": "python",
      "pygments_lexer": "ipython3",
      "version": "3.9.16"
    }
  },
  "nbformat": 4,
  "nbformat_minor": 0
}