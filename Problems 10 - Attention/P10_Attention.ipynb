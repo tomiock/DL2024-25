{
  "cells": [
    {
      "cell_type": "markdown",
      "metadata": {
        "id": "-JGr-h1xvTOZ"
      },
      "source": [
        "# MNIST Simple Pointer Network\n",
        "\n",
        "In this notebook we will learn how to create a simple [Pointer Network](https://arxiv.org/abs/1506.03134) (Vinyals et al. 2015) for solving a dummy task on the MNIST dataset.\n",
        "\n",
        "A Pointer Network uses the **attention mechanism’s** output to model the conditional probability of each element on its input. This can be extremely useful in tasks that require selecting one (or more) elements of the input sequence/set to be solved.\n",
        "\n",
        "In this notebook we will play with a simple Pointer net to solve the following task: Given an MNIST image with a (query) digit we want our model to find the image that contains the consecutive digit to the query image among a set of input images. For example, imagine we use an image with the digit \"5\" as query and let the input of the model be a set of 10 images with different digits, the output of our model must be a probability distribution over those 10 images indicating the presence or not of the digit \"6\" in each of them."
      ]
    },
    {
      "cell_type": "code",
      "execution_count": 1,
      "metadata": {
        "id": "h4Z7-Wm7_5K6",
        "outputId": "b1913cb6-f4e0-4bf7-88d3-74e908cc84ae",
        "colab": {
          "base_uri": "https://localhost:8080/"
        }
      },
      "outputs": [
        {
          "output_type": "stream",
          "name": "stdout",
          "text": [
            "PyTorch Version:  2.6.0+cu124\n"
          ]
        }
      ],
      "source": [
        "import torch\n",
        "import torchvision\n",
        "import torch.nn as nn\n",
        "import torch.optim as optim\n",
        "import numpy as np\n",
        "from torch.utils.data import Dataset, DataLoader\n",
        "\n",
        "import matplotlib.pyplot as plt\n",
        "from collections import Counter\n",
        "import time\n",
        "import os\n",
        "import copy\n",
        "print(\"PyTorch Version: \",torch.__version__)"
      ]
    },
    {
      "cell_type": "code",
      "execution_count": 2,
      "metadata": {
        "id": "RNJh2q4lQGYF",
        "outputId": "f739c33f-4476-4bbd-ae6e-e7dcca2632bb",
        "colab": {
          "base_uri": "https://localhost:8080/"
        }
      },
      "outputs": [
        {
          "output_type": "stream",
          "name": "stdout",
          "text": [
            "Using device: cuda\n"
          ]
        }
      ],
      "source": [
        "#If this cell fails you need to change the runtime of your colab notebook to GPU\n",
        "# Go to Runtime -> Change Runtime Type and select GPU\n",
        "assert torch.cuda.is_available(), \"GPU is not enabled\"\n",
        "\n",
        "#  use gpu if available\n",
        "device = torch.device(\"cuda\" if torch.cuda.is_available() else \"cpu\")\n",
        "print(\"Using device:\", device)"
      ]
    },
    {
      "cell_type": "markdown",
      "metadata": {
        "id": "CyM0DXter9Mp"
      },
      "source": [
        "### Create the dataset\n",
        "\n",
        "Let's start creating a Dataset class to understand better the task we want to solve. Each sample in our dataset will be formed by:\n",
        "\n",
        "* a query image\n",
        "* a set of 10 images, 9 of them selected randomly (distractors) and one selected as the consecutive digit of the digit in the query image.\n",
        "* the ground truth: a 10-D one hot vector indicating the position of the image we want our model to select (\"point to\")."
      ]
    },
    {
      "cell_type": "code",
      "execution_count": 3,
      "metadata": {
        "id": "XksdVS7GHWw0"
      },
      "outputs": [],
      "source": [
        "class MNISTAttentionDataset(Dataset):\n",
        "    \"\"\"MNIST attention toy dataset.\"\"\"\n",
        "\n",
        "    def __init__(self, num_inputs, train=True):\n",
        "        \"\"\"\n",
        "        Args:\n",
        "            num_inputs (int) - The number of images in the input of our model.\n",
        "            train (bool, optional) – If True, creates dataset from MNIST training\n",
        "                samples, otherwise from test\n",
        "        \"\"\"\n",
        "\n",
        "        self.num_inputs = num_inputs\n",
        "        self.mnist = torchvision.datasets.MNIST('../data', train=train, download=True)\n",
        "\n",
        "        # dict with samples for each class label\n",
        "        self.data = {}\n",
        "        for label in range(10):\n",
        "            #Collect in separate lists the different digits, and normalise values to [0, 1]\n",
        "            self.data[label] = self.mnist.data[self.mnist.targets == label] / 255.0\n",
        "\n",
        "\n",
        "\n",
        "    def __len__(self):\n",
        "        # The length makes little sense here, as we generate samples dynamically\n",
        "        # Here we return the number of images originally in the dataset\n",
        "        return self.mnist.data.shape[0]\n",
        "\n",
        "    def __getitem__(self, idx):\n",
        "        \"\"\"\n",
        "        Args:\n",
        "            idx (int) - an index indicating which digit should be used as query\n",
        "        \"\"\"\n",
        "        c = self.mnist.targets[idx].item()     # Find out which is the class of the digit requested\n",
        "        query = self.mnist.data[idx].flatten() / 255.0 # Get the data for the digit requested\n",
        "\n",
        "        correct_pos = np.random.randint(0, self.num_inputs) # Decide on a random position where the correct answer will be\n",
        "\n",
        "        inputs = np.zeros((self.num_inputs, 784)) # Create an array to hold the inputs (from which we have to select one)\n",
        "        for j in range(self.num_inputs):\n",
        "            if j == correct_pos: # In the correct position, place a random digit that comes from the c+1 class\n",
        "                idx = np.random.randint(0,self.data[(c+1)%10].shape[0])\n",
        "                inputs[j,:] = self.data[(c+1)%10][idx,:].flatten()\n",
        "            else: # In the rest of the positions, place random digits that come from the rest of the classes\n",
        "                c_distractor = np.random.choice([n for n in [0,1,2,3,4,5,6,7,8,9] if n!=(c+1)%10])\n",
        "                idx = np.random.randint(0,self.data[c_distractor].shape[0])\n",
        "                inputs[j,:] = self.data[c_distractor][idx,:].flatten()\n",
        "\n",
        "        sample = {'x': inputs, 'query': query, 'y': correct_pos}\n",
        "\n",
        "        return sample"
      ]
    },
    {
      "cell_type": "code",
      "execution_count": 4,
      "metadata": {
        "id": "hL2kwN-kpjUc",
        "outputId": "e93a7a61-0fce-4f47-b615-e37894b99b4b",
        "colab": {
          "base_uri": "https://localhost:8080/"
        }
      },
      "outputs": [
        {
          "output_type": "stream",
          "name": "stderr",
          "text": [
            "100%|██████████| 9.91M/9.91M [00:02<00:00, 4.60MB/s]\n",
            "100%|██████████| 28.9k/28.9k [00:00<00:00, 133kB/s]\n",
            "100%|██████████| 1.65M/1.65M [00:01<00:00, 1.27MB/s]\n",
            "100%|██████████| 4.54k/4.54k [00:00<00:00, 7.30MB/s]\n"
          ]
        }
      ],
      "source": [
        "num_inputs = 10\n",
        "\n",
        "train_dataset = MNISTAttentionDataset(num_inputs, train=True)\n",
        "test_dataset = MNISTAttentionDataset(num_inputs, train=False)\n",
        "\n",
        "train_loader = DataLoader(train_dataset, batch_size = 64, shuffle = True)\n",
        "test_loader  = DataLoader(test_dataset, batch_size = 1000, shuffle = False)"
      ]
    },
    {
      "cell_type": "markdown",
      "metadata": {
        "id": "RES5R0CMr3bE"
      },
      "source": [
        "### Visualize one training sample"
      ]
    },
    {
      "cell_type": "code",
      "execution_count": 5,
      "metadata": {
        "id": "fJY6zR_lqR41",
        "outputId": "f54a4ebc-3b8e-4a1e-fa47-87f04eb95606",
        "colab": {
          "base_uri": "https://localhost:8080/",
          "height": 270
        }
      },
      "outputs": [
        {
          "output_type": "stream",
          "name": "stderr",
          "text": [
            "<ipython-input-3-c662d2e649e2>:46: DeprecationWarning: __array__ implementation doesn't accept a copy keyword, so passing copy=False failed. __array__ must implement 'dtype' and 'copy' keyword arguments.\n",
            "  inputs[j,:] = self.data[c_distractor][idx,:].flatten()\n",
            "<ipython-input-3-c662d2e649e2>:42: DeprecationWarning: __array__ implementation doesn't accept a copy keyword, so passing copy=False failed. __array__ must implement 'dtype' and 'copy' keyword arguments.\n",
            "  inputs[j,:] = self.data[(c+1)%10][idx,:].flatten()\n"
          ]
        },
        {
          "output_type": "stream",
          "name": "stdout",
          "text": [
            "Data: (10, 784), Query: torch.Size([784])\n"
          ]
        },
        {
          "output_type": "display_data",
          "data": {
            "text/plain": [
              "<Figure size 3300x300 with 11 Axes>"
            ],
            "image/png": "[encoded data removed]"
          },
          "metadata": {}
        }
      ],
      "source": [
        "sample = train_dataset[0]\n",
        "\n",
        "print(f\"Data: {sample['x'].shape}, Query: {sample['query'].shape}\")\n",
        "\n",
        "fig = plt.figure(figsize=(33, 3))\n",
        "plt.tight_layout()\n",
        "\n",
        "ax = plt.subplot(1, num_inputs + 1, 1)\n",
        "image = sample['query'].reshape(28,28)\n",
        "plt.imshow(image, cmap='gray')\n",
        "plt.plot([0,27,27,0,0], [0,0,27,27,0], c='b') # Draw a blue box around the query sample\n",
        "ax.set_title('Query')\n",
        "ax.axis('off')\n",
        "\n",
        "for i in range(num_inputs):\n",
        "    ax = plt.subplot(1, num_inputs + 1, i+2)\n",
        "    ax.set_title('Sample #{}'.format(i))\n",
        "    ax.axis('off')\n",
        "    image = sample['x'][i].reshape(28,28)\n",
        "    plt.imshow(image, cmap='gray')\n",
        "    if i == sample['y']:\n",
        "        plt.plot([0,27,27,0,0], [0,0,27,27,0], c='g') # Draw a green box around the correct sample\n",
        "        ax.set_title('Target')\n",
        "    else:\n",
        "        plt.plot([0,27,27,0,0], [0,0,27,27,0], c='r') # Draw a red box around the wrong sample\n",
        "        ax.set_title('Distractor #{}'.format(i))\n",
        "    ax.axis('off')\n",
        "\n",
        "plt.show()"
      ]
    },
    {
      "cell_type": "markdown",
      "metadata": {
        "id": "DVaMM-n2sFF6"
      },
      "source": [
        "### Create the model"
      ]
    },
    {
      "cell_type": "code",
      "execution_count": 6,
      "metadata": {
        "id": "BesD8B1BAW9u"
      },
      "outputs": [],
      "source": [
        "class AttentionModel(nn.Module):\n",
        "    def __init__(self, input_dim, num_inputs, hidden_dim):\n",
        "        super(AttentionModel, self).__init__()\n",
        "        self.hidden_dim = hidden_dim\n",
        "        self.num_inputs = num_inputs\n",
        "        self.input_dim  = input_dim\n",
        "\n",
        "        # Weights (Fully Connected layers)\n",
        "        self.fc_q = nn.Linear(input_dim, hidden_dim) # Query FC\n",
        "        self.fc_k = nn.Linear(input_dim, hidden_dim) # Keys FC. Here the input acts as the keys, and there is no value\n",
        "        self.fc_v = nn.Linear(hidden_dim, 1) # Values FC\n",
        "\n",
        "    def scoringAdditive(self, query, keys):\n",
        "        # Query is                                              (B X 1 X input_dim)\n",
        "        # Repeat (tile) the query so that it has the same size as the keys (input)\n",
        "        query = query.repeat(1, self.num_inputs, 1)           # (B X num_inputs X input_dim)\n",
        "        query = torch.tanh(self.fc_q(query))                  # (B X num_inputs X hidden_dim)\n",
        "\n",
        "        # Keys is                                               (B X num_inputs X input_dim)\n",
        "        keys = torch.tanh(self.fc_k(keys))                    # (B X num_inputs X hidden_dim)\n",
        "\n",
        "        # Attention Score\n",
        "        score = torch.tanh(query + keys )                     # (B X num_inputs X hidden_dim)\n",
        "        score = self.fc_v(score)                              # (B X num_inputs X 1)\n",
        "        return score\n",
        "\n",
        "    def forward(self, x, query):\n",
        "        query = query.unsqueeze(1) # (B x input_dim) -> (B x 1 x input_dim)\n",
        "\n",
        "        # Calculate attention scores\n",
        "        output = self.scoringAdditive(query, x)\n",
        "        output = output.squeeze()       # (B x 1 x num_inputs) -> (B x num_inputs)\n",
        "        return output"
      ]
    },
    {
      "cell_type": "markdown",
      "metadata": {
        "id": "y_yCyvgg9Pbj"
      },
      "source": [
        "<font color=\"blue\">\n",
        "\n",
        "**QUESTION**: The Additive score gives logits that we should pass through a softmax to get the final attention weights. Why is there no softmax in the model above?</font>"
      ]
    },
    {
      "cell_type": "markdown",
      "metadata": {
        "id": "Yfo5uFMnnHqy"
      },
      "source": [
        "---\n",
        "\n",
        "---\n",
        "\n",
        "\n",
        "Because when using additive attention as the scoring function, we are using a couple of weights to set the K and Q to have the same dimensions. In this particular case we would use a tanh on the sum of the Q' and K', that then would be multiplied by the V.\n",
        "\n",
        "---"
      ]
    },
    {
      "cell_type": "code",
      "execution_count": 7,
      "metadata": {
        "id": "nsyUZE0lHJ5-",
        "outputId": "1cef8b87-91c7-475e-ec32-9fcd1ef5af6b",
        "colab": {
          "base_uri": "https://localhost:8080/"
        }
      },
      "outputs": [
        {
          "output_type": "stream",
          "name": "stdout",
          "text": [
            "AttentionModel(\n",
            "  (fc_q): Linear(in_features=784, out_features=256, bias=True)\n",
            "  (fc_k): Linear(in_features=784, out_features=256, bias=True)\n",
            "  (fc_v): Linear(in_features=256, out_features=1, bias=True)\n",
            ")\n"
          ]
        }
      ],
      "source": [
        "input_dim, num_inputs, hidden_dim = (784, 10, 256)\n",
        "\n",
        "model = AttentionModel(input_dim, num_inputs, hidden_dim)\n",
        "print(model)"
      ]
    },
    {
      "cell_type": "markdown",
      "metadata": {
        "id": "xmp0kuk2z3Rx"
      },
      "source": [
        "### Define the training method and train"
      ]
    },
    {
      "cell_type": "code",
      "execution_count": 8,
      "metadata": {
        "id": "6ZvGWqwDrc-V"
      },
      "outputs": [],
      "source": [
        "def train(model, device, train_loader, criterion, optimizer, epoch, log_interval = 100):\n",
        "    # Method to perform one epoch of training\n",
        "    model.train()\n",
        "    loss_values = []\n",
        "\n",
        "    for batch_idx, sample_batched in enumerate(train_loader):\n",
        "        data = sample_batched['x'].float()\n",
        "        query = sample_batched['query'].float()\n",
        "        target = sample_batched['y']\n",
        "        #print(data.shape, query.shape)\n",
        "        data, query, target = data.to(device), query.to(device), target.to(device)\n",
        "\n",
        "        optimizer.zero_grad()\n",
        "        output = model(data, query)\n",
        "        loss = criterion(output, target)\n",
        "        loss.backward()\n",
        "        optimizer.step()\n",
        "\n",
        "        loss_values.append(loss.detach().cpu().item())\n",
        "        if batch_idx % log_interval == 0:\n",
        "            print('Train Epoch: {} [{}/{} ({:.0f}%)]\\tLoss: {:.6f}'.format(\n",
        "                epoch, batch_idx * len(data), len(train_loader.dataset),\n",
        "                100. * batch_idx / len(train_loader), loss.item()))\n",
        "\n",
        "    return loss_values"
      ]
    },
    {
      "cell_type": "code",
      "execution_count": 9,
      "metadata": {
        "id": "7L5ZTARBnHqy",
        "outputId": "6d40126a-de99-4ef6-a067-b75b623d77ff",
        "colab": {
          "base_uri": "https://localhost:8080/"
        }
      },
      "outputs": [
        {
          "output_type": "stream",
          "name": "stderr",
          "text": [
            "<ipython-input-3-c662d2e649e2>:46: DeprecationWarning: __array__ implementation doesn't accept a copy keyword, so passing copy=False failed. __array__ must implement 'dtype' and 'copy' keyword arguments.\n",
            "  inputs[j,:] = self.data[c_distractor][idx,:].flatten()\n",
            "<ipython-input-3-c662d2e649e2>:42: DeprecationWarning: __array__ implementation doesn't accept a copy keyword, so passing copy=False failed. __array__ must implement 'dtype' and 'copy' keyword arguments.\n",
            "  inputs[j,:] = self.data[(c+1)%10][idx,:].flatten()\n"
          ]
        },
        {
          "output_type": "stream",
          "name": "stdout",
          "text": [
            "Train Epoch: 1 [0/60000 (0%)]\tLoss: 2.299356\n",
            "Train Epoch: 1 [6400/60000 (11%)]\tLoss: 1.806293\n",
            "Train Epoch: 1 [12800/60000 (21%)]\tLoss: 1.208623\n",
            "Train Epoch: 1 [19200/60000 (32%)]\tLoss: 0.957487\n",
            "Train Epoch: 1 [25600/60000 (43%)]\tLoss: 0.846211\n",
            "Train Epoch: 1 [32000/60000 (53%)]\tLoss: 0.964467\n",
            "Train Epoch: 1 [38400/60000 (64%)]\tLoss: 0.855622\n",
            "Train Epoch: 1 [44800/60000 (75%)]\tLoss: 0.687641\n",
            "Train Epoch: 1 [51200/60000 (85%)]\tLoss: 0.522733\n",
            "Train Epoch: 1 [57600/60000 (96%)]\tLoss: 0.352714\n",
            "Train Epoch: 2 [0/60000 (0%)]\tLoss: 0.499979\n",
            "Train Epoch: 2 [6400/60000 (11%)]\tLoss: 0.657847\n",
            "Train Epoch: 2 [12800/60000 (21%)]\tLoss: 0.455401\n",
            "Train Epoch: 2 [19200/60000 (32%)]\tLoss: 0.354469\n",
            "Train Epoch: 2 [25600/60000 (43%)]\tLoss: 0.361487\n",
            "Train Epoch: 2 [32000/60000 (53%)]\tLoss: 0.464845\n",
            "Train Epoch: 2 [38400/60000 (64%)]\tLoss: 0.470802\n",
            "Train Epoch: 2 [44800/60000 (75%)]\tLoss: 0.372642\n",
            "Train Epoch: 2 [51200/60000 (85%)]\tLoss: 0.417841\n",
            "Train Epoch: 2 [57600/60000 (96%)]\tLoss: 0.431472\n",
            "Train Epoch: 3 [0/60000 (0%)]\tLoss: 0.410985\n",
            "Train Epoch: 3 [6400/60000 (11%)]\tLoss: 0.401086\n",
            "Train Epoch: 3 [12800/60000 (21%)]\tLoss: 0.334061\n",
            "Train Epoch: 3 [19200/60000 (32%)]\tLoss: 0.322265\n",
            "Train Epoch: 3 [25600/60000 (43%)]\tLoss: 0.578014\n",
            "Train Epoch: 3 [32000/60000 (53%)]\tLoss: 0.126192\n",
            "Train Epoch: 3 [38400/60000 (64%)]\tLoss: 0.377079\n",
            "Train Epoch: 3 [44800/60000 (75%)]\tLoss: 0.390389\n",
            "Train Epoch: 3 [51200/60000 (85%)]\tLoss: 0.487298\n",
            "Train Epoch: 3 [57600/60000 (96%)]\tLoss: 0.302968\n",
            "Train Epoch: 4 [0/60000 (0%)]\tLoss: 0.417138\n",
            "Train Epoch: 4 [6400/60000 (11%)]\tLoss: 0.313802\n",
            "Train Epoch: 4 [12800/60000 (21%)]\tLoss: 0.236819\n",
            "Train Epoch: 4 [19200/60000 (32%)]\tLoss: 0.353837\n",
            "Train Epoch: 4 [25600/60000 (43%)]\tLoss: 0.298897\n",
            "Train Epoch: 4 [32000/60000 (53%)]\tLoss: 0.267970\n",
            "Train Epoch: 4 [38400/60000 (64%)]\tLoss: 0.239339\n",
            "Train Epoch: 4 [44800/60000 (75%)]\tLoss: 0.241048\n",
            "Train Epoch: 4 [51200/60000 (85%)]\tLoss: 0.223674\n",
            "Train Epoch: 4 [57600/60000 (96%)]\tLoss: 0.273234\n",
            "Train Epoch: 5 [0/60000 (0%)]\tLoss: 0.662695\n",
            "Train Epoch: 5 [6400/60000 (11%)]\tLoss: 0.183692\n",
            "Train Epoch: 5 [12800/60000 (21%)]\tLoss: 0.143564\n",
            "Train Epoch: 5 [19200/60000 (32%)]\tLoss: 0.177494\n",
            "Train Epoch: 5 [25600/60000 (43%)]\tLoss: 0.383036\n",
            "Train Epoch: 5 [32000/60000 (53%)]\tLoss: 0.263483\n",
            "Train Epoch: 5 [38400/60000 (64%)]\tLoss: 0.241685\n",
            "Train Epoch: 5 [44800/60000 (75%)]\tLoss: 0.211931\n",
            "Train Epoch: 5 [51200/60000 (85%)]\tLoss: 0.243639\n",
            "Train Epoch: 5 [57600/60000 (96%)]\tLoss: 0.307174\n",
            "Train Epoch: 6 [0/60000 (0%)]\tLoss: 0.255456\n",
            "Train Epoch: 6 [6400/60000 (11%)]\tLoss: 0.341517\n",
            "Train Epoch: 6 [12800/60000 (21%)]\tLoss: 0.182302\n",
            "Train Epoch: 6 [19200/60000 (32%)]\tLoss: 0.257367\n",
            "Train Epoch: 6 [25600/60000 (43%)]\tLoss: 0.315124\n",
            "Train Epoch: 6 [32000/60000 (53%)]\tLoss: 0.367665\n",
            "Train Epoch: 6 [38400/60000 (64%)]\tLoss: 0.322057\n",
            "Train Epoch: 6 [44800/60000 (75%)]\tLoss: 0.167808\n",
            "Train Epoch: 6 [51200/60000 (85%)]\tLoss: 0.247963\n",
            "Train Epoch: 6 [57600/60000 (96%)]\tLoss: 0.447599\n",
            "Train Epoch: 7 [0/60000 (0%)]\tLoss: 0.171289\n",
            "Train Epoch: 7 [6400/60000 (11%)]\tLoss: 0.159286\n",
            "Train Epoch: 7 [12800/60000 (21%)]\tLoss: 0.269570\n",
            "Train Epoch: 7 [19200/60000 (32%)]\tLoss: 0.235190\n",
            "Train Epoch: 7 [25600/60000 (43%)]\tLoss: 0.230318\n",
            "Train Epoch: 7 [32000/60000 (53%)]\tLoss: 0.251840\n",
            "Train Epoch: 7 [38400/60000 (64%)]\tLoss: 0.295295\n",
            "Train Epoch: 7 [44800/60000 (75%)]\tLoss: 0.371287\n",
            "Train Epoch: 7 [51200/60000 (85%)]\tLoss: 0.230841\n",
            "Train Epoch: 7 [57600/60000 (96%)]\tLoss: 0.190914\n",
            "Train Epoch: 8 [0/60000 (0%)]\tLoss: 0.292399\n",
            "Train Epoch: 8 [6400/60000 (11%)]\tLoss: 0.155384\n",
            "Train Epoch: 8 [12800/60000 (21%)]\tLoss: 0.190272\n",
            "Train Epoch: 8 [19200/60000 (32%)]\tLoss: 0.509372\n",
            "Train Epoch: 8 [25600/60000 (43%)]\tLoss: 0.295948\n",
            "Train Epoch: 8 [32000/60000 (53%)]\tLoss: 0.181609\n",
            "Train Epoch: 8 [38400/60000 (64%)]\tLoss: 0.174169\n",
            "Train Epoch: 8 [44800/60000 (75%)]\tLoss: 0.332506\n",
            "Train Epoch: 8 [51200/60000 (85%)]\tLoss: 0.266558\n",
            "Train Epoch: 8 [57600/60000 (96%)]\tLoss: 0.237943\n",
            "Train Epoch: 9 [0/60000 (0%)]\tLoss: 0.291245\n",
            "Train Epoch: 9 [6400/60000 (11%)]\tLoss: 0.190884\n",
            "Train Epoch: 9 [12800/60000 (21%)]\tLoss: 0.216206\n",
            "Train Epoch: 9 [19200/60000 (32%)]\tLoss: 0.124193\n",
            "Train Epoch: 9 [25600/60000 (43%)]\tLoss: 0.110373\n",
            "Train Epoch: 9 [32000/60000 (53%)]\tLoss: 0.081620\n",
            "Train Epoch: 9 [38400/60000 (64%)]\tLoss: 0.341689\n",
            "Train Epoch: 9 [44800/60000 (75%)]\tLoss: 0.219653\n",
            "Train Epoch: 9 [51200/60000 (85%)]\tLoss: 0.262060\n",
            "Train Epoch: 9 [57600/60000 (96%)]\tLoss: 0.176433\n",
            "Train Epoch: 10 [0/60000 (0%)]\tLoss: 0.375674\n",
            "Train Epoch: 10 [6400/60000 (11%)]\tLoss: 0.376775\n",
            "Train Epoch: 10 [12800/60000 (21%)]\tLoss: 0.441090\n",
            "Train Epoch: 10 [19200/60000 (32%)]\tLoss: 0.193375\n",
            "Train Epoch: 10 [25600/60000 (43%)]\tLoss: 0.323277\n",
            "Train Epoch: 10 [32000/60000 (53%)]\tLoss: 0.318451\n",
            "Train Epoch: 10 [38400/60000 (64%)]\tLoss: 0.224442\n",
            "Train Epoch: 10 [44800/60000 (75%)]\tLoss: 0.151811\n",
            "Train Epoch: 10 [51200/60000 (85%)]\tLoss: 0.366428\n",
            "Train Epoch: 10 [57600/60000 (96%)]\tLoss: 0.369273\n"
          ]
        }
      ],
      "source": [
        "model = model.to(device)\n",
        "\n",
        "optimizer = optim.Adam(model.parameters())\n",
        "\n",
        "criterion = nn.CrossEntropyLoss()\n",
        "\n",
        "epochs = 10\n",
        "\n",
        "loss_history = []\n",
        "for epoch in range(1, epochs + 1):\n",
        "    loss_values = train(model, device, train_loader, criterion, optimizer, epoch)\n",
        "    loss_history += loss_values"
      ]
    },
    {
      "cell_type": "code",
      "execution_count": 10,
      "metadata": {
        "id": "UK66OnlVnHqz",
        "outputId": "f583410d-ae2e-45d2-9bd6-fcdf152db400",
        "colab": {
          "base_uri": "https://localhost:8080/",
          "height": 451
        }
      },
      "outputs": [
        {
          "output_type": "execute_result",
          "data": {
            "text/plain": [
              "[<matplotlib.lines.Line2D at 0x7b604a48c4d0>]"
            ]
          },
          "metadata": {},
          "execution_count": 10
        },
        {
          "output_type": "display_data",
          "data": {
            "text/plain": [
              "<Figure size 640x480 with 1 Axes>"
            ],
            "image/png": "[encoded data removed]"
          },
          "metadata": {}
        }
      ],
      "source": [
        "plt.plot(loss_history)"
      ]
    },
    {
      "cell_type": "markdown",
      "metadata": {
        "id": "jONlgxyaEwC6"
      },
      "source": [
        "### Evaluate the trained model"
      ]
    },
    {
      "cell_type": "code",
      "execution_count": 11,
      "metadata": {
        "id": "izgtCdk5DV01"
      },
      "outputs": [],
      "source": [
        "def evaluate(model, device, test_loader):\n",
        "    model.eval()\n",
        "    total = 0.\n",
        "    ok = 0.\n",
        "    for batch_idx, sample_batched in enumerate(test_loader):\n",
        "        data = sample_batched['x'].float()\n",
        "        query = sample_batched['query'].float()\n",
        "        target = sample_batched['y'].numpy()\n",
        "        data, query = data.to(device), query.to(device)\n",
        "\n",
        "        output = model(data, query)\n",
        "        pred = np.argmax(output.detach().cpu().numpy(), axis=1)\n",
        "\n",
        "        ok += np.sum(pred == target)\n",
        "        total += len(test_loader)\n",
        "\n",
        "    print('Accuracy = ', ok/total)"
      ]
    },
    {
      "cell_type": "code",
      "execution_count": 12,
      "metadata": {
        "id": "REhHTDaenHqz",
        "outputId": "7dd96bcc-ddc1-41d8-f347-976479f9d594",
        "colab": {
          "base_uri": "https://localhost:8080/"
        }
      },
      "outputs": [
        {
          "output_type": "stream",
          "name": "stderr",
          "text": [
            "<ipython-input-3-c662d2e649e2>:46: DeprecationWarning: __array__ implementation doesn't accept a copy keyword, so passing copy=False failed. __array__ must implement 'dtype' and 'copy' keyword arguments.\n",
            "  inputs[j,:] = self.data[c_distractor][idx,:].flatten()\n",
            "<ipython-input-3-c662d2e649e2>:42: DeprecationWarning: __array__ implementation doesn't accept a copy keyword, so passing copy=False failed. __array__ must implement 'dtype' and 'copy' keyword arguments.\n",
            "  inputs[j,:] = self.data[(c+1)%10][idx,:].flatten()\n"
          ]
        },
        {
          "output_type": "stream",
          "name": "stdout",
          "text": [
            "Accuracy =  91.26\n"
          ]
        }
      ],
      "source": [
        "evaluate(model, device, test_loader)"
      ]
    },
    {
      "cell_type": "markdown",
      "metadata": {
        "id": "CaOoDxjhhjxz"
      },
      "source": [
        "<font color=\"blue\">\n",
        "\n",
        "**EXERCISE 1**: Starting from the previous model as a template, implement the Dot-product Attention scoring function and substitute the additive one we were using before. Retrain and evalute the model.</font>\n",
        "\n",
        "<font color=\"blue\">\n",
        "\n",
        "> Hint: To transpose a tensor along specific dimensions you can use `torch.permute()`\n",
        "</font>\n",
        "\n",
        "\n",
        "<font color=\"blue\">\n",
        "\n",
        "> Hint: To perform a batch matrix-matrix product, use the function `torch.bmm()` https://pytorch.org/docs/stable/generated/torch.bmm.html\n",
        "</font>"
      ]
    },
    {
      "cell_type": "code",
      "execution_count": 25,
      "metadata": {
        "id": "HfGt2EtCnHqz"
      },
      "outputs": [],
      "source": [
        "class DotAttentionModel(nn.Module):\n",
        "    def __init__(self, input_dim, num_inputs, hidden_dim):\n",
        "        super(DotAttentionModel, self).__init__()\n",
        "        self.num_inputs = num_inputs\n",
        "        self.input_dim  = input_dim\n",
        "\n",
        "        # Weights (Fully Connected layers)\n",
        "        self.fc_q = nn.Linear(input_dim, hidden_dim) # Query FC\n",
        "        self.fc_k = nn.Linear(input_dim, hidden_dim) # Keys FC. Here the input acts as the keys, and there is no value\n",
        "        self.fc_v = nn.Linear(hidden_dim, 1) # Values FC\n",
        "\n",
        "    def qk(self, query, keys):\n",
        "        # Query is                                              (B X 1 X input_dim)\n",
        "        # Repeat (tile) the query so that it has the same size as the keys (input)\n",
        "        query = query.repeat(1, self.num_inputs, 1)\n",
        "        query = self.fc_q(query)\n",
        "        keys = torch.tanh(self.fc_k(keys))\n",
        "        qk = torch.bmm(query, keys.permute(0, 2, 1))\n",
        "\n",
        "        return qk / torch.sqrt(torch.tensor(self.input_dim))\n",
        "\n",
        "    def forward(self, x, query):\n",
        "        query = query.unsqueeze(1) # (B x input_dim) -> (B x 1 x input_dim)\n",
        "\n",
        "        # Calculate attention scores\n",
        "        qk_softmax = torch.nn.functional.softmax(self.qk(query, x))\n",
        "        attention = torch.bmm(qk_softmax, x)\n",
        "        output = self.fc_v(attention)\n",
        "        output = output.squeeze()\n",
        "        return output\n"
      ]
    },
    {
      "cell_type": "code",
      "source": [
        "model = DotAttentionModel(input_dim, num_inputs, hidden_dim)\n",
        "print(model)"
      ],
      "metadata": {
        "id": "Evh4BH5AinDF",
        "outputId": "749f7a41-3ce3-4032-8b03-09ad11caff31",
        "colab": {
          "base_uri": "https://localhost:8080/"
        }
      },
      "execution_count": 26,
      "outputs": [
        {
          "output_type": "stream",
          "name": "stdout",
          "text": [
            "DotAttentionModel(\n",
            "  (fc_q): Linear(in_features=784, out_features=256, bias=True)\n",
            "  (fc_k): Linear(in_features=784, out_features=256, bias=True)\n",
            "  (fc_v): Linear(in_features=256, out_features=1, bias=True)\n",
            ")\n"
          ]
        }
      ]
    },
    {
      "cell_type": "code",
      "source": [
        "model = model.to(device)\n",
        "\n",
        "optimizer = optim.Adam(model.parameters())\n",
        "\n",
        "criterion = nn.CrossEntropyLoss()\n",
        "\n",
        "epochs = 10\n",
        "\n",
        "loss_history = []\n",
        "for epoch in range(1, epochs + 1):\n",
        "    loss_values = train(model, device, train_loader, criterion, optimizer, epoch)\n",
        "    loss_history += loss_values"
      ],
      "metadata": {
        "id": "1aEKHAoXi1Dv",
        "outputId": "c17946e1-04bf-423b-b407-dd405dd9056a",
        "colab": {
          "base_uri": "https://localhost:8080/",
          "height": 443
        }
      },
      "execution_count": 27,
      "outputs": [
        {
          "output_type": "stream",
          "name": "stderr",
          "text": [
            "<ipython-input-3-c662d2e649e2>:46: DeprecationWarning: __array__ implementation doesn't accept a copy keyword, so passing copy=False failed. __array__ must implement 'dtype' and 'copy' keyword arguments.\n",
            "  inputs[j,:] = self.data[c_distractor][idx,:].flatten()\n",
            "<ipython-input-3-c662d2e649e2>:42: DeprecationWarning: __array__ implementation doesn't accept a copy keyword, so passing copy=False failed. __array__ must implement 'dtype' and 'copy' keyword arguments.\n",
            "  inputs[j,:] = self.data[(c+1)%10][idx,:].flatten()\n",
            "<ipython-input-25-c4f5996405ca>:24: UserWarning: Implicit dimension choice for softmax has been deprecated. Change the call to include dim=X as an argument.\n",
            "  qk_softmax = torch.nn.functional.softmax(self.qk(query, x))\n"
          ]
        },
        {
          "output_type": "error",
          "ename": "RuntimeError",
          "evalue": "mat1 and mat2 shapes cannot be multiplied (640x784 and 256x1)",
          "traceback": [
            "\u001b[0;31m---------------------------------------------------------------------------\u001b[0m",
            "\u001b[0;31mRuntimeError\u001b[0m                              Traceback (most recent call last)",
            "\u001b[0;32m<ipython-input-27-4d16b0424832>\u001b[0m in \u001b[0;36m<cell line: 0>\u001b[0;34m()\u001b[0m\n\u001b[1;32m      9\u001b[0m \u001b[0mloss_history\u001b[0m \u001b[0;34m=\u001b[0m \u001b[0;34m[\u001b[0m\u001b[0;34m]\u001b[0m\u001b[0;34m\u001b[0m\u001b[0;34m\u001b[0m\u001b[0m\n\u001b[1;32m     10\u001b[0m \u001b[0;32mfor\u001b[0m \u001b[0mepoch\u001b[0m \u001b[0;32min\u001b[0m \u001b[0mrange\u001b[0m\u001b[0;34m(\u001b[0m\u001b[0;36m1\u001b[0m\u001b[0;34m,\u001b[0m \u001b[0mepochs\u001b[0m \u001b[0;34m+\u001b[0m \u001b[0;36m1\u001b[0m\u001b[0;34m)\u001b[0m\u001b[0;34m:\u001b[0m\u001b[0;34m\u001b[0m\u001b[0;34m\u001b[0m\u001b[0m\n\u001b[0;32m---> 11\u001b[0;31m     \u001b[0mloss_values\u001b[0m \u001b[0;34m=\u001b[0m \u001b[0mtrain\u001b[0m\u001b[0;34m(\u001b[0m\u001b[0mmodel\u001b[0m\u001b[0;34m,\u001b[0m \u001b[0mdevice\u001b[0m\u001b[0;34m,\u001b[0m \u001b[0mtrain_loader\u001b[0m\u001b[0;34m,\u001b[0m \u001b[0mcriterion\u001b[0m\u001b[0;34m,\u001b[0m \u001b[0moptimizer\u001b[0m\u001b[0;34m,\u001b[0m \u001b[0mepoch\u001b[0m\u001b[0;34m)\u001b[0m\u001b[0;34m\u001b[0m\u001b[0;34m\u001b[0m\u001b[0m\n\u001b[0m\u001b[1;32m     12\u001b[0m     \u001b[0mloss_history\u001b[0m \u001b[0;34m+=\u001b[0m \u001b[0mloss_values\u001b[0m\u001b[0;34m\u001b[0m\u001b[0;34m\u001b[0m\u001b[0m\n",
            "\u001b[0;32m<ipython-input-8-01baeab4ce42>\u001b[0m in \u001b[0;36mtrain\u001b[0;34m(model, device, train_loader, criterion, optimizer, epoch, log_interval)\u001b[0m\n\u001b[1;32m     12\u001b[0m \u001b[0;34m\u001b[0m\u001b[0m\n\u001b[1;32m     13\u001b[0m         \u001b[0moptimizer\u001b[0m\u001b[0;34m.\u001b[0m\u001b[0mzero_grad\u001b[0m\u001b[0;34m(\u001b[0m\u001b[0;34m)\u001b[0m\u001b[0;34m\u001b[0m\u001b[0;34m\u001b[0m\u001b[0m\n\u001b[0;32m---> 14\u001b[0;31m         \u001b[0moutput\u001b[0m \u001b[0;34m=\u001b[0m \u001b[0mmodel\u001b[0m\u001b[0;34m(\u001b[0m\u001b[0mdata\u001b[0m\u001b[0;34m,\u001b[0m \u001b[0mquery\u001b[0m\u001b[0;34m)\u001b[0m\u001b[0;34m\u001b[0m\u001b[0;34m\u001b[0m\u001b[0m\n\u001b[0m\u001b[1;32m     15\u001b[0m         \u001b[0mloss\u001b[0m \u001b[0;34m=\u001b[0m \u001b[0mcriterion\u001b[0m\u001b[0;34m(\u001b[0m\u001b[0moutput\u001b[0m\u001b[0;34m,\u001b[0m \u001b[0mtarget\u001b[0m\u001b[0;34m)\u001b[0m\u001b[0;34m\u001b[0m\u001b[0;34m\u001b[0m\u001b[0m\n\u001b[1;32m     16\u001b[0m         \u001b[0mloss\u001b[0m\u001b[0;34m.\u001b[0m\u001b[0mbackward\u001b[0m\u001b[0;34m(\u001b[0m\u001b[0;34m)\u001b[0m\u001b[0;34m\u001b[0m\u001b[0;34m\u001b[0m\u001b[0m\n",
            "\u001b[0;32m/usr/local/lib/python3.11/dist-packages/torch/nn/modules/module.py\u001b[0m in \u001b[0;36m_wrapped_call_impl\u001b[0;34m(self, *args, **kwargs)\u001b[0m\n\u001b[1;32m   1737\u001b[0m             \u001b[0;32mreturn\u001b[0m \u001b[0mself\u001b[0m\u001b[0;34m.\u001b[0m\u001b[0m_compiled_call_impl\u001b[0m\u001b[0;34m(\u001b[0m\u001b[0;34m*\u001b[0m\u001b[0margs\u001b[0m\u001b[0;34m,\u001b[0m \u001b[0;34m**\u001b[0m\u001b[0mkwargs\u001b[0m\u001b[0;34m)\u001b[0m  \u001b[0;31m# type: ignore[misc]\u001b[0m\u001b[0;34m\u001b[0m\u001b[0;34m\u001b[0m\u001b[0m\n\u001b[1;32m   1738\u001b[0m         \u001b[0;32melse\u001b[0m\u001b[0;34m:\u001b[0m\u001b[0;34m\u001b[0m\u001b[0;34m\u001b[0m\u001b[0m\n\u001b[0;32m-> 1739\u001b[0;31m             \u001b[0;32mreturn\u001b[0m \u001b[0mself\u001b[0m\u001b[0;34m.\u001b[0m\u001b[0m_call_impl\u001b[0m\u001b[0;34m(\u001b[0m\u001b[0;34m*\u001b[0m\u001b[0margs\u001b[0m\u001b[0;34m,\u001b[0m \u001b[0;34m**\u001b[0m\u001b[0mkwargs\u001b[0m\u001b[0;34m)\u001b[0m\u001b[0;34m\u001b[0m\u001b[0;34m\u001b[0m\u001b[0m\n\u001b[0m\u001b[1;32m   1740\u001b[0m \u001b[0;34m\u001b[0m\u001b[0m\n\u001b[1;32m   1741\u001b[0m     \u001b[0;31m# torchrec tests the code consistency with the following code\u001b[0m\u001b[0;34m\u001b[0m\u001b[0;34m\u001b[0m\u001b[0m\n",
            "\u001b[0;32m/usr/local/lib/python3.11/dist-packages/torch/nn/modules/module.py\u001b[0m in \u001b[0;36m_call_impl\u001b[0;34m(self, *args, **kwargs)\u001b[0m\n\u001b[1;32m   1748\u001b[0m                 \u001b[0;32mor\u001b[0m \u001b[0m_global_backward_pre_hooks\u001b[0m \u001b[0;32mor\u001b[0m \u001b[0m_global_backward_hooks\u001b[0m\u001b[0;34m\u001b[0m\u001b[0;34m\u001b[0m\u001b[0m\n\u001b[1;32m   1749\u001b[0m                 or _global_forward_hooks or _global_forward_pre_hooks):\n\u001b[0;32m-> 1750\u001b[0;31m             \u001b[0;32mreturn\u001b[0m \u001b[0mforward_call\u001b[0m\u001b[0;34m(\u001b[0m\u001b[0;34m*\u001b[0m\u001b[0margs\u001b[0m\u001b[0;34m,\u001b[0m \u001b[0;34m**\u001b[0m\u001b[0mkwargs\u001b[0m\u001b[0;34m)\u001b[0m\u001b[0;34m\u001b[0m\u001b[0;34m\u001b[0m\u001b[0m\n\u001b[0m\u001b[1;32m   1751\u001b[0m \u001b[0;34m\u001b[0m\u001b[0m\n\u001b[1;32m   1752\u001b[0m         \u001b[0mresult\u001b[0m \u001b[0;34m=\u001b[0m \u001b[0;32mNone\u001b[0m\u001b[0;34m\u001b[0m\u001b[0;34m\u001b[0m\u001b[0m\n",
            "\u001b[0;32m<ipython-input-25-c4f5996405ca>\u001b[0m in \u001b[0;36mforward\u001b[0;34m(self, x, query)\u001b[0m\n\u001b[1;32m     24\u001b[0m         \u001b[0mqk_softmax\u001b[0m \u001b[0;34m=\u001b[0m \u001b[0mtorch\u001b[0m\u001b[0;34m.\u001b[0m\u001b[0mnn\u001b[0m\u001b[0;34m.\u001b[0m\u001b[0mfunctional\u001b[0m\u001b[0;34m.\u001b[0m\u001b[0msoftmax\u001b[0m\u001b[0;34m(\u001b[0m\u001b[0mself\u001b[0m\u001b[0;34m.\u001b[0m\u001b[0mqk\u001b[0m\u001b[0;34m(\u001b[0m\u001b[0mquery\u001b[0m\u001b[0;34m,\u001b[0m \u001b[0mx\u001b[0m\u001b[0;34m)\u001b[0m\u001b[0;34m)\u001b[0m\u001b[0;34m\u001b[0m\u001b[0;34m\u001b[0m\u001b[0m\n\u001b[1;32m     25\u001b[0m         \u001b[0mattention\u001b[0m \u001b[0;34m=\u001b[0m \u001b[0mtorch\u001b[0m\u001b[0;34m.\u001b[0m\u001b[0mbmm\u001b[0m\u001b[0;34m(\u001b[0m\u001b[0mqk_softmax\u001b[0m\u001b[0;34m,\u001b[0m \u001b[0mx\u001b[0m\u001b[0;34m)\u001b[0m\u001b[0;34m\u001b[0m\u001b[0;34m\u001b[0m\u001b[0m\n\u001b[0;32m---> 26\u001b[0;31m         \u001b[0moutput\u001b[0m \u001b[0;34m=\u001b[0m \u001b[0mself\u001b[0m\u001b[0;34m.\u001b[0m\u001b[0mfc_v\u001b[0m\u001b[0;34m(\u001b[0m\u001b[0mattention\u001b[0m\u001b[0;34m)\u001b[0m\u001b[0;34m\u001b[0m\u001b[0;34m\u001b[0m\u001b[0m\n\u001b[0m\u001b[1;32m     27\u001b[0m         \u001b[0moutput\u001b[0m \u001b[0;34m=\u001b[0m \u001b[0moutput\u001b[0m\u001b[0;34m.\u001b[0m\u001b[0msqueeze\u001b[0m\u001b[0;34m(\u001b[0m\u001b[0;34m)\u001b[0m\u001b[0;34m\u001b[0m\u001b[0;34m\u001b[0m\u001b[0m\n\u001b[1;32m     28\u001b[0m         \u001b[0;32mreturn\u001b[0m \u001b[0moutput\u001b[0m\u001b[0;34m\u001b[0m\u001b[0;34m\u001b[0m\u001b[0m\n",
            "\u001b[0;32m/usr/local/lib/python3.11/dist-packages/torch/nn/modules/module.py\u001b[0m in \u001b[0;36m_wrapped_call_impl\u001b[0;34m(self, *args, **kwargs)\u001b[0m\n\u001b[1;32m   1737\u001b[0m             \u001b[0;32mreturn\u001b[0m \u001b[0mself\u001b[0m\u001b[0;34m.\u001b[0m\u001b[0m_compiled_call_impl\u001b[0m\u001b[0;34m(\u001b[0m\u001b[0;34m*\u001b[0m\u001b[0margs\u001b[0m\u001b[0;34m,\u001b[0m \u001b[0;34m**\u001b[0m\u001b[0mkwargs\u001b[0m\u001b[0;34m)\u001b[0m  \u001b[0;31m# type: ignore[misc]\u001b[0m\u001b[0;34m\u001b[0m\u001b[0;34m\u001b[0m\u001b[0m\n\u001b[1;32m   1738\u001b[0m         \u001b[0;32melse\u001b[0m\u001b[0;34m:\u001b[0m\u001b[0;34m\u001b[0m\u001b[0;34m\u001b[0m\u001b[0m\n\u001b[0;32m-> 1739\u001b[0;31m             \u001b[0;32mreturn\u001b[0m \u001b[0mself\u001b[0m\u001b[0;34m.\u001b[0m\u001b[0m_call_impl\u001b[0m\u001b[0;34m(\u001b[0m\u001b[0;34m*\u001b[0m\u001b[0margs\u001b[0m\u001b[0;34m,\u001b[0m \u001b[0;34m**\u001b[0m\u001b[0mkwargs\u001b[0m\u001b[0;34m)\u001b[0m\u001b[0;34m\u001b[0m\u001b[0;34m\u001b[0m\u001b[0m\n\u001b[0m\u001b[1;32m   1740\u001b[0m \u001b[0;34m\u001b[0m\u001b[0m\n\u001b[1;32m   1741\u001b[0m     \u001b[0;31m# torchrec tests the code consistency with the following code\u001b[0m\u001b[0;34m\u001b[0m\u001b[0;34m\u001b[0m\u001b[0m\n",
            "\u001b[0;32m/usr/local/lib/python3.11/dist-packages/torch/nn/modules/module.py\u001b[0m in \u001b[0;36m_call_impl\u001b[0;34m(self, *args, **kwargs)\u001b[0m\n\u001b[1;32m   1748\u001b[0m                 \u001b[0;32mor\u001b[0m \u001b[0m_global_backward_pre_hooks\u001b[0m \u001b[0;32mor\u001b[0m \u001b[0m_global_backward_hooks\u001b[0m\u001b[0;34m\u001b[0m\u001b[0;34m\u001b[0m\u001b[0m\n\u001b[1;32m   1749\u001b[0m                 or _global_forward_hooks or _global_forward_pre_hooks):\n\u001b[0;32m-> 1750\u001b[0;31m             \u001b[0;32mreturn\u001b[0m \u001b[0mforward_call\u001b[0m\u001b[0;34m(\u001b[0m\u001b[0;34m*\u001b[0m\u001b[0margs\u001b[0m\u001b[0;34m,\u001b[0m \u001b[0;34m**\u001b[0m\u001b[0mkwargs\u001b[0m\u001b[0;34m)\u001b[0m\u001b[0;34m\u001b[0m\u001b[0;34m\u001b[0m\u001b[0m\n\u001b[0m\u001b[1;32m   1751\u001b[0m \u001b[0;34m\u001b[0m\u001b[0m\n\u001b[1;32m   1752\u001b[0m         \u001b[0mresult\u001b[0m \u001b[0;34m=\u001b[0m \u001b[0;32mNone\u001b[0m\u001b[0;34m\u001b[0m\u001b[0;34m\u001b[0m\u001b[0m\n",
            "\u001b[0;32m/usr/local/lib/python3.11/dist-packages/torch/nn/modules/linear.py\u001b[0m in \u001b[0;36mforward\u001b[0;34m(self, input)\u001b[0m\n\u001b[1;32m    123\u001b[0m \u001b[0;34m\u001b[0m\u001b[0m\n\u001b[1;32m    124\u001b[0m     \u001b[0;32mdef\u001b[0m \u001b[0mforward\u001b[0m\u001b[0;34m(\u001b[0m\u001b[0mself\u001b[0m\u001b[0;34m,\u001b[0m \u001b[0minput\u001b[0m\u001b[0;34m:\u001b[0m \u001b[0mTensor\u001b[0m\u001b[0;34m)\u001b[0m \u001b[0;34m->\u001b[0m \u001b[0mTensor\u001b[0m\u001b[0;34m:\u001b[0m\u001b[0;34m\u001b[0m\u001b[0;34m\u001b[0m\u001b[0m\n\u001b[0;32m--> 125\u001b[0;31m         \u001b[0;32mreturn\u001b[0m \u001b[0mF\u001b[0m\u001b[0;34m.\u001b[0m\u001b[0mlinear\u001b[0m\u001b[0;34m(\u001b[0m\u001b[0minput\u001b[0m\u001b[0;34m,\u001b[0m \u001b[0mself\u001b[0m\u001b[0;34m.\u001b[0m\u001b[0mweight\u001b[0m\u001b[0;34m,\u001b[0m \u001b[0mself\u001b[0m\u001b[0;34m.\u001b[0m\u001b[0mbias\u001b[0m\u001b[0;34m)\u001b[0m\u001b[0;34m\u001b[0m\u001b[0;34m\u001b[0m\u001b[0m\n\u001b[0m\u001b[1;32m    126\u001b[0m \u001b[0;34m\u001b[0m\u001b[0m\n\u001b[1;32m    127\u001b[0m     \u001b[0;32mdef\u001b[0m \u001b[0mextra_repr\u001b[0m\u001b[0;34m(\u001b[0m\u001b[0mself\u001b[0m\u001b[0;34m)\u001b[0m \u001b[0;34m->\u001b[0m \u001b[0mstr\u001b[0m\u001b[0;34m:\u001b[0m\u001b[0;34m\u001b[0m\u001b[0;34m\u001b[0m\u001b[0m\n",
            "\u001b[0;31mRuntimeError\u001b[0m: mat1 and mat2 shapes cannot be multiplied (640x784 and 256x1)"
          ]
        }
      ]
    },
    {
      "cell_type": "code",
      "source": [],
      "metadata": {
        "id": "O7YjnndEi6y1"
      },
      "execution_count": null,
      "outputs": []
    }
  ],
  "metadata": {
    "accelerator": "GPU",
    "colab": {
      "provenance": []
    },
    "kernelspec": {
      "display_name": "pytorch",
      "language": "python",
      "name": "pytorch"
    },
    "language_info": {
      "codemirror_mode": {
        "name": "ipython",
        "version": 3
      },
      "file_extension": ".py",
      "mimetype": "text/x-python",
      "name": "python",
      "nbconvert_exporter": "python",
      "pygments_lexer": "ipython3",
      "version": "3.9.16"
    }
  },
  "nbformat": 4,
  "nbformat_minor": 0
}